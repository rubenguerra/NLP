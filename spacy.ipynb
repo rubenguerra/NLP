{
  "nbformat": 4,
  "nbformat_minor": 0,
  "metadata": {
    "colab": {
      "name": "spacy.ipynb",
      "provenance": [],
      "collapsed_sections": [],
      "authorship_tag": "ABX9TyN3eFyoXJ8huFLUuXir01We",
      "include_colab_link": true
    },
    "kernelspec": {
      "name": "python3",
      "display_name": "Python 3"
    },
    "accelerator": "GPU"
  },
  "cells": [
    {
      "cell_type": "markdown",
      "metadata": {
        "id": "view-in-github",
        "colab_type": "text"
      },
      "source": [
        "<a href=\"https://colab.research.google.com/github/rubenguerra/NLP/blob/main/spacy.ipynb\" target=\"_parent\"><img src=\"https://colab.research.google.com/assets/colab-badge.svg\" alt=\"Open In Colab\"/></a>"
      ]
    },
    {
      "cell_type": "code",
      "metadata": {
        "id": "gDrDyLNWEgg-"
      },
      "source": [
        "!pip install -U spacy"
      ],
      "execution_count": null,
      "outputs": []
    },
    {
      "cell_type": "code",
      "metadata": {
        "id": "z65QfyT7Eq0s"
      },
      "source": [
        "!pip install -U spacy-lookups-data"
      ],
      "execution_count": null,
      "outputs": []
    },
    {
      "cell_type": "code",
      "metadata": {
        "id": "4JUjixRGE-nK"
      },
      "source": [
        "!python -m spacy download en_core_web_sm"
      ],
      "execution_count": null,
      "outputs": []
    },
    {
      "cell_type": "code",
      "metadata": {
        "id": "_g8u8_sDDrIG"
      },
      "source": [
        "import tensorflow as tf"
      ],
      "execution_count": null,
      "outputs": []
    },
    {
      "cell_type": "code",
      "metadata": {
        "id": "enkP9OVUDZuJ",
        "outputId": "f0251589-2ec4-4bf4-b298-217f341ac7d5",
        "colab": {
          "base_uri": "https://localhost:8080/",
          "height": 34
        }
      },
      "source": [
        "physical_devices=tf.config.experimental.list_physical_devices('GPU')\n",
        "print('Num GPUs disponible: ', len(physical_devices))\n",
        "tf.config.experimental.set_memory_growth(physical_devices[0], True)"
      ],
      "execution_count": null,
      "outputs": [
        {
          "output_type": "stream",
          "text": [
            "Num GPUs disponible:  1\n"
          ],
          "name": "stdout"
        }
      ]
    },
    {
      "cell_type": "code",
      "metadata": {
        "id": "eQc46gsSFW-8"
      },
      "source": [
        "#Bajar la data\n",
        "#Instalamos la biblioteca kaggle\n",
        "!pip install kaggle"
      ],
      "execution_count": null,
      "outputs": []
    },
    {
      "cell_type": "code",
      "metadata": {
        "id": "spfEp0bfF_gu"
      },
      "source": [
        "#Descargamos el permiso de la cuenta kaggle (previamente bajado desde la url)\n",
        "from google.colab import files\n",
        "files.upload()"
      ],
      "execution_count": null,
      "outputs": []
    },
    {
      "cell_type": "code",
      "metadata": {
        "id": "enW2ja1IGG6-"
      },
      "source": [
        "#Antes de importar la dataset debemos usar este codigo\n",
        "!mkdir -p ~/.kaggle\n",
        "!cp kaggle.json ~/.kaggle/\n",
        "\n",
        "#Este permiso cambia\n",
        "!chmod 600 ~/.kaggle/kaggle.json"
      ],
      "execution_count": null,
      "outputs": []
    },
    {
      "cell_type": "code",
      "metadata": {
        "id": "MQetN_5vGRak",
        "outputId": "993d69cb-e2a5-4ca9-c752-741ec07c916b",
        "colab": {
          "base_uri": "https://localhost:8080/",
          "height": 34
        }
      },
      "source": [
        "# Importamos el dataset que queremoos usar un proyecto\n",
        "\n",
        "!kaggle datasets download -d kazanova/sentiment140"
      ],
      "execution_count": null,
      "outputs": [
        {
          "output_type": "stream",
          "text": [
            "401 - Unauthorized\n"
          ],
          "name": "stdout"
        }
      ]
    },
    {
      "cell_type": "code",
      "metadata": {
        "id": "tfwhN2o2GcZx"
      },
      "source": [
        "from zipfile import ZipFile\n",
        "datos=\"sentiment140.zip\"\n",
        "\n",
        "with ZipFile(datos, 'r') as zip:\n",
        "  zip.extractall()\n",
        "  print('Listo')"
      ],
      "execution_count": null,
      "outputs": []
    },
    {
      "cell_type": "code",
      "metadata": {
        "id": "SmH70EuHGwks"
      },
      "source": [
        "import pandas as pd\n",
        "import numpy as np\n",
        "import spacy\n",
        "from spacy.lang.en.stop_words import STOP_WORDS\n",
        "import os"
      ],
      "execution_count": null,
      "outputs": []
    },
    {
      "cell_type": "code",
      "metadata": {
        "id": "6BBPECTYvvVx",
        "outputId": "05bdd2e3-5fd9-4f98-d808-f0d653593437",
        "colab": {
          "base_uri": "https://localhost:8080/",
          "height": 52
        }
      },
      "source": [
        "ls"
      ],
      "execution_count": null,
      "outputs": [
        {
          "output_type": "stream",
          "text": [
            "kaggle1.json  \u001b[0m\u001b[01;34msample_data\u001b[0m/      training.1600000.processed.noemoticon.csv\n",
            "kaggle.json   sentiment140.zip\n"
          ],
          "name": "stdout"
        }
      ]
    },
    {
      "cell_type": "code",
      "metadata": {
        "id": "kMJ3LqwKlEdF"
      },
      "source": [
        "os.rename(r'/content/training.1600000.processed.noemoticon.csv', r'/content/twitter16m.csv',)"
      ],
      "execution_count": null,
      "outputs": []
    },
    {
      "cell_type": "code",
      "metadata": {
        "id": "bZApMwO4HDtc"
      },
      "source": [
        "df=pd.read_csv('twitter16m.csv', encoding='latin1', header=None)"
      ],
      "execution_count": null,
      "outputs": []
    },
    {
      "cell_type": "code",
      "metadata": {
        "id": "L47HCn6IHqVp",
        "outputId": "12c5af02-2e99-4abc-c374-1ea936eb40ba",
        "colab": {
          "base_uri": "https://localhost:8080/",
          "height": 204
        }
      },
      "source": [
        "df.head()"
      ],
      "execution_count": null,
      "outputs": [
        {
          "output_type": "execute_result",
          "data": {
            "text/html": [
              "<div>\n",
              "<style scoped>\n",
              "    .dataframe tbody tr th:only-of-type {\n",
              "        vertical-align: middle;\n",
              "    }\n",
              "\n",
              "    .dataframe tbody tr th {\n",
              "        vertical-align: top;\n",
              "    }\n",
              "\n",
              "    .dataframe thead th {\n",
              "        text-align: right;\n",
              "    }\n",
              "</style>\n",
              "<table border=\"1\" class=\"dataframe\">\n",
              "  <thead>\n",
              "    <tr style=\"text-align: right;\">\n",
              "      <th></th>\n",
              "      <th>0</th>\n",
              "      <th>1</th>\n",
              "      <th>2</th>\n",
              "      <th>3</th>\n",
              "      <th>4</th>\n",
              "      <th>5</th>\n",
              "    </tr>\n",
              "  </thead>\n",
              "  <tbody>\n",
              "    <tr>\n",
              "      <th>0</th>\n",
              "      <td>0</td>\n",
              "      <td>1467810369</td>\n",
              "      <td>Mon Apr 06 22:19:45 PDT 2009</td>\n",
              "      <td>NO_QUERY</td>\n",
              "      <td>_TheSpecialOne_</td>\n",
              "      <td>@switchfoot http://twitpic.com/2y1zl - Awww, t...</td>\n",
              "    </tr>\n",
              "    <tr>\n",
              "      <th>1</th>\n",
              "      <td>0</td>\n",
              "      <td>1467810672</td>\n",
              "      <td>Mon Apr 06 22:19:49 PDT 2009</td>\n",
              "      <td>NO_QUERY</td>\n",
              "      <td>scotthamilton</td>\n",
              "      <td>is upset that he can't update his Facebook by ...</td>\n",
              "    </tr>\n",
              "    <tr>\n",
              "      <th>2</th>\n",
              "      <td>0</td>\n",
              "      <td>1467810917</td>\n",
              "      <td>Mon Apr 06 22:19:53 PDT 2009</td>\n",
              "      <td>NO_QUERY</td>\n",
              "      <td>mattycus</td>\n",
              "      <td>@Kenichan I dived many times for the ball. Man...</td>\n",
              "    </tr>\n",
              "    <tr>\n",
              "      <th>3</th>\n",
              "      <td>0</td>\n",
              "      <td>1467811184</td>\n",
              "      <td>Mon Apr 06 22:19:57 PDT 2009</td>\n",
              "      <td>NO_QUERY</td>\n",
              "      <td>ElleCTF</td>\n",
              "      <td>my whole body feels itchy and like its on fire</td>\n",
              "    </tr>\n",
              "    <tr>\n",
              "      <th>4</th>\n",
              "      <td>0</td>\n",
              "      <td>1467811193</td>\n",
              "      <td>Mon Apr 06 22:19:57 PDT 2009</td>\n",
              "      <td>NO_QUERY</td>\n",
              "      <td>Karoli</td>\n",
              "      <td>@nationwideclass no, it's not behaving at all....</td>\n",
              "    </tr>\n",
              "  </tbody>\n",
              "</table>\n",
              "</div>"
            ],
            "text/plain": [
              "   0  ...                                                  5\n",
              "0  0  ...  @switchfoot http://twitpic.com/2y1zl - Awww, t...\n",
              "1  0  ...  is upset that he can't update his Facebook by ...\n",
              "2  0  ...  @Kenichan I dived many times for the ball. Man...\n",
              "3  0  ...    my whole body feels itchy and like its on fire \n",
              "4  0  ...  @nationwideclass no, it's not behaving at all....\n",
              "\n",
              "[5 rows x 6 columns]"
            ]
          },
          "metadata": {
            "tags": []
          },
          "execution_count": 16
        }
      ]
    },
    {
      "cell_type": "code",
      "metadata": {
        "id": "2AYUNX8wHwqB"
      },
      "source": [
        "#SELECIONAMOS LAS COLUMNAS QUE NOS INTERESAN EN NUESTRO DF\n",
        "df=df[[5,0]]"
      ],
      "execution_count": null,
      "outputs": []
    },
    {
      "cell_type": "code",
      "metadata": {
        "id": "RErvMk6FH78_",
        "outputId": "422ddee8-ad05-4cfb-ce13-f59d9cd49fe2",
        "colab": {
          "base_uri": "https://localhost:8080/",
          "height": 204
        }
      },
      "source": [
        "#RENOMBRAMOS LAS COLUMNAS\n",
        "df.columns=['twitts', 'Sent.']\n",
        "df.head()"
      ],
      "execution_count": null,
      "outputs": [
        {
          "output_type": "execute_result",
          "data": {
            "text/html": [
              "<div>\n",
              "<style scoped>\n",
              "    .dataframe tbody tr th:only-of-type {\n",
              "        vertical-align: middle;\n",
              "    }\n",
              "\n",
              "    .dataframe tbody tr th {\n",
              "        vertical-align: top;\n",
              "    }\n",
              "\n",
              "    .dataframe thead th {\n",
              "        text-align: right;\n",
              "    }\n",
              "</style>\n",
              "<table border=\"1\" class=\"dataframe\">\n",
              "  <thead>\n",
              "    <tr style=\"text-align: right;\">\n",
              "      <th></th>\n",
              "      <th>twitts</th>\n",
              "      <th>Sent.</th>\n",
              "    </tr>\n",
              "  </thead>\n",
              "  <tbody>\n",
              "    <tr>\n",
              "      <th>0</th>\n",
              "      <td>@switchfoot http://twitpic.com/2y1zl - Awww, t...</td>\n",
              "      <td>0</td>\n",
              "    </tr>\n",
              "    <tr>\n",
              "      <th>1</th>\n",
              "      <td>is upset that he can't update his Facebook by ...</td>\n",
              "      <td>0</td>\n",
              "    </tr>\n",
              "    <tr>\n",
              "      <th>2</th>\n",
              "      <td>@Kenichan I dived many times for the ball. Man...</td>\n",
              "      <td>0</td>\n",
              "    </tr>\n",
              "    <tr>\n",
              "      <th>3</th>\n",
              "      <td>my whole body feels itchy and like its on fire</td>\n",
              "      <td>0</td>\n",
              "    </tr>\n",
              "    <tr>\n",
              "      <th>4</th>\n",
              "      <td>@nationwideclass no, it's not behaving at all....</td>\n",
              "      <td>0</td>\n",
              "    </tr>\n",
              "  </tbody>\n",
              "</table>\n",
              "</div>"
            ],
            "text/plain": [
              "                                              twitts  Sent.\n",
              "0  @switchfoot http://twitpic.com/2y1zl - Awww, t...      0\n",
              "1  is upset that he can't update his Facebook by ...      0\n",
              "2  @Kenichan I dived many times for the ball. Man...      0\n",
              "3    my whole body feels itchy and like its on fire       0\n",
              "4  @nationwideclass no, it's not behaving at all....      0"
            ]
          },
          "metadata": {
            "tags": []
          },
          "execution_count": 18
        }
      ]
    },
    {
      "cell_type": "code",
      "metadata": {
        "id": "catn2_AfIE4V",
        "outputId": "d149aeba-c53a-4d00-9720-a040362f71c3",
        "colab": {
          "base_uri": "https://localhost:8080/",
          "height": 68
        }
      },
      "source": [
        "df['Sent.'].value_counts()"
      ],
      "execution_count": null,
      "outputs": [
        {
          "output_type": "execute_result",
          "data": {
            "text/plain": [
              "4    800000\n",
              "0    800000\n",
              "Name: Sent., dtype: int64"
            ]
          },
          "metadata": {
            "tags": []
          },
          "execution_count": 19
        }
      ]
    },
    {
      "cell_type": "code",
      "metadata": {
        "id": "ezzToCOCIUEt"
      },
      "source": [
        "sent_map={0:'negativo', 4:'positivo'} #ETIQUETAMOS LOS VALORES"
      ],
      "execution_count": null,
      "outputs": []
    },
    {
      "cell_type": "markdown",
      "metadata": {
        "id": "-D98RNZrIlTY"
      },
      "source": [
        "CONTEO DE PALABRAS"
      ]
    },
    {
      "cell_type": "code",
      "metadata": {
        "id": "ZqXHCCWkIisk"
      },
      "source": [
        "df['cant_palabra']=df['twitts'].apply(lambda x: len(str(x).split()))"
      ],
      "execution_count": null,
      "outputs": []
    },
    {
      "cell_type": "code",
      "metadata": {
        "id": "0zdaQmnd2hWx"
      },
      "source": [
        "df['cant_car']=df['twitts'].apply(lambda x: len(x))"
      ],
      "execution_count": null,
      "outputs": []
    },
    {
      "cell_type": "code",
      "metadata": {
        "id": "Qu7-6EhnI9OV"
      },
      "source": [
        "def get_avg_word_len(x):\n",
        "  words=x.split()\n",
        "  word_len=0\n",
        "  for word in words:\n",
        "    word_len=word_len + len(word)\n",
        "  return word_len/len(words)"
      ],
      "execution_count": null,
      "outputs": []
    },
    {
      "cell_type": "code",
      "metadata": {
        "id": "i2dSY5bK0nzf"
      },
      "source": [
        "df['prom_log_pal']=df['twitts'].apply(lambda x: get_avg_word_len(x))"
      ],
      "execution_count": null,
      "outputs": []
    },
    {
      "cell_type": "code",
      "metadata": {
        "id": "VSFxEVNk1gP-",
        "outputId": "9d789445-45c6-49b4-c9ef-cf1aa56bd149",
        "colab": {
          "base_uri": "https://localhost:8080/",
          "height": 204
        }
      },
      "source": [
        "df.head()"
      ],
      "execution_count": null,
      "outputs": [
        {
          "output_type": "execute_result",
          "data": {
            "text/html": [
              "<div>\n",
              "<style scoped>\n",
              "    .dataframe tbody tr th:only-of-type {\n",
              "        vertical-align: middle;\n",
              "    }\n",
              "\n",
              "    .dataframe tbody tr th {\n",
              "        vertical-align: top;\n",
              "    }\n",
              "\n",
              "    .dataframe thead th {\n",
              "        text-align: right;\n",
              "    }\n",
              "</style>\n",
              "<table border=\"1\" class=\"dataframe\">\n",
              "  <thead>\n",
              "    <tr style=\"text-align: right;\">\n",
              "      <th></th>\n",
              "      <th>twitts</th>\n",
              "      <th>Sent.</th>\n",
              "      <th>cant_palabra</th>\n",
              "      <th>cant_car</th>\n",
              "      <th>prom_log_pal</th>\n",
              "    </tr>\n",
              "  </thead>\n",
              "  <tbody>\n",
              "    <tr>\n",
              "      <th>0</th>\n",
              "      <td>@switchfoot http://twitpic.com/2y1zl - Awww, t...</td>\n",
              "      <td>0</td>\n",
              "      <td>19</td>\n",
              "      <td>115</td>\n",
              "      <td>5.052632</td>\n",
              "    </tr>\n",
              "    <tr>\n",
              "      <th>1</th>\n",
              "      <td>is upset that he can't update his Facebook by ...</td>\n",
              "      <td>0</td>\n",
              "      <td>21</td>\n",
              "      <td>111</td>\n",
              "      <td>4.285714</td>\n",
              "    </tr>\n",
              "    <tr>\n",
              "      <th>2</th>\n",
              "      <td>@Kenichan I dived many times for the ball. Man...</td>\n",
              "      <td>0</td>\n",
              "      <td>18</td>\n",
              "      <td>89</td>\n",
              "      <td>3.944444</td>\n",
              "    </tr>\n",
              "    <tr>\n",
              "      <th>3</th>\n",
              "      <td>my whole body feels itchy and like its on fire</td>\n",
              "      <td>0</td>\n",
              "      <td>10</td>\n",
              "      <td>47</td>\n",
              "      <td>3.700000</td>\n",
              "    </tr>\n",
              "    <tr>\n",
              "      <th>4</th>\n",
              "      <td>@nationwideclass no, it's not behaving at all....</td>\n",
              "      <td>0</td>\n",
              "      <td>21</td>\n",
              "      <td>111</td>\n",
              "      <td>4.285714</td>\n",
              "    </tr>\n",
              "  </tbody>\n",
              "</table>\n",
              "</div>"
            ],
            "text/plain": [
              "                                              twitts  ...  prom_log_pal\n",
              "0  @switchfoot http://twitpic.com/2y1zl - Awww, t...  ...      5.052632\n",
              "1  is upset that he can't update his Facebook by ...  ...      4.285714\n",
              "2  @Kenichan I dived many times for the ball. Man...  ...      3.944444\n",
              "3    my whole body feels itchy and like its on fire   ...      3.700000\n",
              "4  @nationwideclass no, it's not behaving at all....  ...      4.285714\n",
              "\n",
              "[5 rows x 5 columns]"
            ]
          },
          "metadata": {
            "tags": []
          },
          "execution_count": 25
        }
      ]
    },
    {
      "cell_type": "markdown",
      "metadata": {
        "id": "gNE_liMn5Lrd"
      },
      "source": [
        "CONTEO STOP WORDS"
      ]
    },
    {
      "cell_type": "code",
      "metadata": {
        "id": "ahFBW5gz5UT1"
      },
      "source": [
        "df['cant_stopWords']=df['twitts'].apply(lambda x: len([t for t in x.split() if t in STOP_WORDS]))"
      ],
      "execution_count": null,
      "outputs": []
    },
    {
      "cell_type": "code",
      "metadata": {
        "id": "oYWiQnRB6nft",
        "outputId": "8fd9f8db-25d3-4ad4-e733-7ab284ac57b5",
        "colab": {
          "base_uri": "https://localhost:8080/",
          "height": 204
        }
      },
      "source": [
        "df.head()"
      ],
      "execution_count": null,
      "outputs": [
        {
          "output_type": "execute_result",
          "data": {
            "text/html": [
              "<div>\n",
              "<style scoped>\n",
              "    .dataframe tbody tr th:only-of-type {\n",
              "        vertical-align: middle;\n",
              "    }\n",
              "\n",
              "    .dataframe tbody tr th {\n",
              "        vertical-align: top;\n",
              "    }\n",
              "\n",
              "    .dataframe thead th {\n",
              "        text-align: right;\n",
              "    }\n",
              "</style>\n",
              "<table border=\"1\" class=\"dataframe\">\n",
              "  <thead>\n",
              "    <tr style=\"text-align: right;\">\n",
              "      <th></th>\n",
              "      <th>twitts</th>\n",
              "      <th>Sent.</th>\n",
              "      <th>cant_palabra</th>\n",
              "      <th>cant_car</th>\n",
              "      <th>prom_log_pal</th>\n",
              "      <th>cant_stopWords</th>\n",
              "    </tr>\n",
              "  </thead>\n",
              "  <tbody>\n",
              "    <tr>\n",
              "      <th>0</th>\n",
              "      <td>@switchfoot http://twitpic.com/2y1zl - Awww, t...</td>\n",
              "      <td>0</td>\n",
              "      <td>19</td>\n",
              "      <td>115</td>\n",
              "      <td>5.052632</td>\n",
              "      <td>4</td>\n",
              "    </tr>\n",
              "    <tr>\n",
              "      <th>1</th>\n",
              "      <td>is upset that he can't update his Facebook by ...</td>\n",
              "      <td>0</td>\n",
              "      <td>21</td>\n",
              "      <td>111</td>\n",
              "      <td>4.285714</td>\n",
              "      <td>9</td>\n",
              "    </tr>\n",
              "    <tr>\n",
              "      <th>2</th>\n",
              "      <td>@Kenichan I dived many times for the ball. Man...</td>\n",
              "      <td>0</td>\n",
              "      <td>18</td>\n",
              "      <td>89</td>\n",
              "      <td>3.944444</td>\n",
              "      <td>7</td>\n",
              "    </tr>\n",
              "    <tr>\n",
              "      <th>3</th>\n",
              "      <td>my whole body feels itchy and like its on fire</td>\n",
              "      <td>0</td>\n",
              "      <td>10</td>\n",
              "      <td>47</td>\n",
              "      <td>3.700000</td>\n",
              "      <td>5</td>\n",
              "    </tr>\n",
              "    <tr>\n",
              "      <th>4</th>\n",
              "      <td>@nationwideclass no, it's not behaving at all....</td>\n",
              "      <td>0</td>\n",
              "      <td>21</td>\n",
              "      <td>111</td>\n",
              "      <td>4.285714</td>\n",
              "      <td>10</td>\n",
              "    </tr>\n",
              "  </tbody>\n",
              "</table>\n",
              "</div>"
            ],
            "text/plain": [
              "                                              twitts  ...  cant_stopWords\n",
              "0  @switchfoot http://twitpic.com/2y1zl - Awww, t...  ...               4\n",
              "1  is upset that he can't update his Facebook by ...  ...               9\n",
              "2  @Kenichan I dived many times for the ball. Man...  ...               7\n",
              "3    my whole body feels itchy and like its on fire   ...               5\n",
              "4  @nationwideclass no, it's not behaving at all....  ...              10\n",
              "\n",
              "[5 rows x 6 columns]"
            ]
          },
          "metadata": {
            "tags": []
          },
          "execution_count": 27
        }
      ]
    },
    {
      "cell_type": "markdown",
      "metadata": {
        "id": "Rxaj8D1O7DM3"
      },
      "source": [
        "CONTEO HASHTAG Y MENCIONES"
      ]
    },
    {
      "cell_type": "code",
      "metadata": {
        "id": "ITqDW-9F8B1W",
        "outputId": "2d93c5df-6144-4c20-b8f0-db30391bc082",
        "colab": {
          "base_uri": "https://localhost:8080/",
          "height": 204
        }
      },
      "source": [
        "df['hashtags']=df['twitts'].apply(lambda x: len([t for t in x.split() if t.startswith('#')]))\n",
        "df['menciones']=df['twitts'].apply(lambda x: len([t for t in x.split() if t.startswith('@')]))\n",
        "df.head()"
      ],
      "execution_count": null,
      "outputs": [
        {
          "output_type": "execute_result",
          "data": {
            "text/html": [
              "<div>\n",
              "<style scoped>\n",
              "    .dataframe tbody tr th:only-of-type {\n",
              "        vertical-align: middle;\n",
              "    }\n",
              "\n",
              "    .dataframe tbody tr th {\n",
              "        vertical-align: top;\n",
              "    }\n",
              "\n",
              "    .dataframe thead th {\n",
              "        text-align: right;\n",
              "    }\n",
              "</style>\n",
              "<table border=\"1\" class=\"dataframe\">\n",
              "  <thead>\n",
              "    <tr style=\"text-align: right;\">\n",
              "      <th></th>\n",
              "      <th>twitts</th>\n",
              "      <th>Sent.</th>\n",
              "      <th>cant_palabra</th>\n",
              "      <th>cant_car</th>\n",
              "      <th>prom_log_pal</th>\n",
              "      <th>cant_stopWords</th>\n",
              "      <th>hashtags</th>\n",
              "      <th>menciones</th>\n",
              "    </tr>\n",
              "  </thead>\n",
              "  <tbody>\n",
              "    <tr>\n",
              "      <th>0</th>\n",
              "      <td>@switchfoot http://twitpic.com/2y1zl - Awww, t...</td>\n",
              "      <td>0</td>\n",
              "      <td>19</td>\n",
              "      <td>115</td>\n",
              "      <td>5.052632</td>\n",
              "      <td>4</td>\n",
              "      <td>0</td>\n",
              "      <td>1</td>\n",
              "    </tr>\n",
              "    <tr>\n",
              "      <th>1</th>\n",
              "      <td>is upset that he can't update his Facebook by ...</td>\n",
              "      <td>0</td>\n",
              "      <td>21</td>\n",
              "      <td>111</td>\n",
              "      <td>4.285714</td>\n",
              "      <td>9</td>\n",
              "      <td>0</td>\n",
              "      <td>0</td>\n",
              "    </tr>\n",
              "    <tr>\n",
              "      <th>2</th>\n",
              "      <td>@Kenichan I dived many times for the ball. Man...</td>\n",
              "      <td>0</td>\n",
              "      <td>18</td>\n",
              "      <td>89</td>\n",
              "      <td>3.944444</td>\n",
              "      <td>7</td>\n",
              "      <td>0</td>\n",
              "      <td>1</td>\n",
              "    </tr>\n",
              "    <tr>\n",
              "      <th>3</th>\n",
              "      <td>my whole body feels itchy and like its on fire</td>\n",
              "      <td>0</td>\n",
              "      <td>10</td>\n",
              "      <td>47</td>\n",
              "      <td>3.700000</td>\n",
              "      <td>5</td>\n",
              "      <td>0</td>\n",
              "      <td>0</td>\n",
              "    </tr>\n",
              "    <tr>\n",
              "      <th>4</th>\n",
              "      <td>@nationwideclass no, it's not behaving at all....</td>\n",
              "      <td>0</td>\n",
              "      <td>21</td>\n",
              "      <td>111</td>\n",
              "      <td>4.285714</td>\n",
              "      <td>10</td>\n",
              "      <td>0</td>\n",
              "      <td>1</td>\n",
              "    </tr>\n",
              "  </tbody>\n",
              "</table>\n",
              "</div>"
            ],
            "text/plain": [
              "                                              twitts  ...  menciones\n",
              "0  @switchfoot http://twitpic.com/2y1zl - Awww, t...  ...          1\n",
              "1  is upset that he can't update his Facebook by ...  ...          0\n",
              "2  @Kenichan I dived many times for the ball. Man...  ...          1\n",
              "3    my whole body feels itchy and like its on fire   ...          0\n",
              "4  @nationwideclass no, it's not behaving at all....  ...          1\n",
              "\n",
              "[5 rows x 8 columns]"
            ]
          },
          "metadata": {
            "tags": []
          },
          "execution_count": 28
        }
      ]
    },
    {
      "cell_type": "markdown",
      "metadata": {
        "id": "KyBLrKhe84k-"
      },
      "source": [
        "DICE SI HAY DIGITOS EN LOS TWITTS"
      ]
    },
    {
      "cell_type": "code",
      "metadata": {
        "id": "q1cfLKq88uU9"
      },
      "source": [
        "df['cant_digit']=df['twitts'].apply(lambda x: len([t for t in x.split() if t.isdigit()]))"
      ],
      "execution_count": null,
      "outputs": []
    },
    {
      "cell_type": "code",
      "metadata": {
        "id": "uJPtrvMd9bo6",
        "outputId": "b39b5f6f-aee8-4fff-bfca-20b5b002f535",
        "colab": {
          "base_uri": "https://localhost:8080/",
          "height": 204
        }
      },
      "source": [
        "df.head()"
      ],
      "execution_count": null,
      "outputs": [
        {
          "output_type": "execute_result",
          "data": {
            "text/html": [
              "<div>\n",
              "<style scoped>\n",
              "    .dataframe tbody tr th:only-of-type {\n",
              "        vertical-align: middle;\n",
              "    }\n",
              "\n",
              "    .dataframe tbody tr th {\n",
              "        vertical-align: top;\n",
              "    }\n",
              "\n",
              "    .dataframe thead th {\n",
              "        text-align: right;\n",
              "    }\n",
              "</style>\n",
              "<table border=\"1\" class=\"dataframe\">\n",
              "  <thead>\n",
              "    <tr style=\"text-align: right;\">\n",
              "      <th></th>\n",
              "      <th>twitts</th>\n",
              "      <th>Sent.</th>\n",
              "      <th>cant_palabra</th>\n",
              "      <th>cant_car</th>\n",
              "      <th>prom_log_pal</th>\n",
              "      <th>cant_stopWords</th>\n",
              "      <th>hashtags</th>\n",
              "      <th>menciones</th>\n",
              "      <th>cant_digit</th>\n",
              "    </tr>\n",
              "  </thead>\n",
              "  <tbody>\n",
              "    <tr>\n",
              "      <th>0</th>\n",
              "      <td>@switchfoot http://twitpic.com/2y1zl - Awww, t...</td>\n",
              "      <td>0</td>\n",
              "      <td>19</td>\n",
              "      <td>115</td>\n",
              "      <td>5.052632</td>\n",
              "      <td>4</td>\n",
              "      <td>0</td>\n",
              "      <td>1</td>\n",
              "      <td>0</td>\n",
              "    </tr>\n",
              "    <tr>\n",
              "      <th>1</th>\n",
              "      <td>is upset that he can't update his Facebook by ...</td>\n",
              "      <td>0</td>\n",
              "      <td>21</td>\n",
              "      <td>111</td>\n",
              "      <td>4.285714</td>\n",
              "      <td>9</td>\n",
              "      <td>0</td>\n",
              "      <td>0</td>\n",
              "      <td>0</td>\n",
              "    </tr>\n",
              "    <tr>\n",
              "      <th>2</th>\n",
              "      <td>@Kenichan I dived many times for the ball. Man...</td>\n",
              "      <td>0</td>\n",
              "      <td>18</td>\n",
              "      <td>89</td>\n",
              "      <td>3.944444</td>\n",
              "      <td>7</td>\n",
              "      <td>0</td>\n",
              "      <td>1</td>\n",
              "      <td>0</td>\n",
              "    </tr>\n",
              "    <tr>\n",
              "      <th>3</th>\n",
              "      <td>my whole body feels itchy and like its on fire</td>\n",
              "      <td>0</td>\n",
              "      <td>10</td>\n",
              "      <td>47</td>\n",
              "      <td>3.700000</td>\n",
              "      <td>5</td>\n",
              "      <td>0</td>\n",
              "      <td>0</td>\n",
              "      <td>0</td>\n",
              "    </tr>\n",
              "    <tr>\n",
              "      <th>4</th>\n",
              "      <td>@nationwideclass no, it's not behaving at all....</td>\n",
              "      <td>0</td>\n",
              "      <td>21</td>\n",
              "      <td>111</td>\n",
              "      <td>4.285714</td>\n",
              "      <td>10</td>\n",
              "      <td>0</td>\n",
              "      <td>1</td>\n",
              "      <td>0</td>\n",
              "    </tr>\n",
              "  </tbody>\n",
              "</table>\n",
              "</div>"
            ],
            "text/plain": [
              "                                              twitts  ...  cant_digit\n",
              "0  @switchfoot http://twitpic.com/2y1zl - Awww, t...  ...           0\n",
              "1  is upset that he can't update his Facebook by ...  ...           0\n",
              "2  @Kenichan I dived many times for the ball. Man...  ...           0\n",
              "3    my whole body feels itchy and like its on fire   ...           0\n",
              "4  @nationwideclass no, it's not behaving at all....  ...           0\n",
              "\n",
              "[5 rows x 9 columns]"
            ]
          },
          "metadata": {
            "tags": []
          },
          "execution_count": 30
        }
      ]
    },
    {
      "cell_type": "markdown",
      "metadata": {
        "id": "ojxt8V3vk6JJ"
      },
      "source": [
        "CONTEO DE PALABRAS EN MAYUSCULAS"
      ]
    },
    {
      "cell_type": "code",
      "metadata": {
        "id": "LcT1Oxbm9fch"
      },
      "source": [
        "df['cant_may']=df['twitts'].apply(lambda x: len([t for t in x.split() if t.isupper() and len(x) > 3  ]))"
      ],
      "execution_count": null,
      "outputs": []
    },
    {
      "cell_type": "code",
      "metadata": {
        "id": "H1-WEBa3n62D",
        "outputId": "01a0e48d-4c5e-49b6-d719-99b2b521ef82",
        "colab": {
          "base_uri": "https://localhost:8080/",
          "height": 204
        }
      },
      "source": [
        "df.head()"
      ],
      "execution_count": null,
      "outputs": [
        {
          "output_type": "execute_result",
          "data": {
            "text/html": [
              "<div>\n",
              "<style scoped>\n",
              "    .dataframe tbody tr th:only-of-type {\n",
              "        vertical-align: middle;\n",
              "    }\n",
              "\n",
              "    .dataframe tbody tr th {\n",
              "        vertical-align: top;\n",
              "    }\n",
              "\n",
              "    .dataframe thead th {\n",
              "        text-align: right;\n",
              "    }\n",
              "</style>\n",
              "<table border=\"1\" class=\"dataframe\">\n",
              "  <thead>\n",
              "    <tr style=\"text-align: right;\">\n",
              "      <th></th>\n",
              "      <th>twitts</th>\n",
              "      <th>Sent.</th>\n",
              "      <th>cant_palabra</th>\n",
              "      <th>cant_car</th>\n",
              "      <th>prom_log_pal</th>\n",
              "      <th>cant_stopWords</th>\n",
              "      <th>hashtags</th>\n",
              "      <th>menciones</th>\n",
              "      <th>cant_digit</th>\n",
              "      <th>cant_may</th>\n",
              "    </tr>\n",
              "  </thead>\n",
              "  <tbody>\n",
              "    <tr>\n",
              "      <th>0</th>\n",
              "      <td>@switchfoot http://twitpic.com/2y1zl - Awww, t...</td>\n",
              "      <td>0</td>\n",
              "      <td>19</td>\n",
              "      <td>115</td>\n",
              "      <td>5.052632</td>\n",
              "      <td>4</td>\n",
              "      <td>0</td>\n",
              "      <td>1</td>\n",
              "      <td>0</td>\n",
              "      <td>1</td>\n",
              "    </tr>\n",
              "    <tr>\n",
              "      <th>1</th>\n",
              "      <td>is upset that he can't update his Facebook by ...</td>\n",
              "      <td>0</td>\n",
              "      <td>21</td>\n",
              "      <td>111</td>\n",
              "      <td>4.285714</td>\n",
              "      <td>9</td>\n",
              "      <td>0</td>\n",
              "      <td>0</td>\n",
              "      <td>0</td>\n",
              "      <td>0</td>\n",
              "    </tr>\n",
              "    <tr>\n",
              "      <th>2</th>\n",
              "      <td>@Kenichan I dived many times for the ball. Man...</td>\n",
              "      <td>0</td>\n",
              "      <td>18</td>\n",
              "      <td>89</td>\n",
              "      <td>3.944444</td>\n",
              "      <td>7</td>\n",
              "      <td>0</td>\n",
              "      <td>1</td>\n",
              "      <td>0</td>\n",
              "      <td>1</td>\n",
              "    </tr>\n",
              "    <tr>\n",
              "      <th>3</th>\n",
              "      <td>my whole body feels itchy and like its on fire</td>\n",
              "      <td>0</td>\n",
              "      <td>10</td>\n",
              "      <td>47</td>\n",
              "      <td>3.700000</td>\n",
              "      <td>5</td>\n",
              "      <td>0</td>\n",
              "      <td>0</td>\n",
              "      <td>0</td>\n",
              "      <td>0</td>\n",
              "    </tr>\n",
              "    <tr>\n",
              "      <th>4</th>\n",
              "      <td>@nationwideclass no, it's not behaving at all....</td>\n",
              "      <td>0</td>\n",
              "      <td>21</td>\n",
              "      <td>111</td>\n",
              "      <td>4.285714</td>\n",
              "      <td>10</td>\n",
              "      <td>0</td>\n",
              "      <td>1</td>\n",
              "      <td>0</td>\n",
              "      <td>1</td>\n",
              "    </tr>\n",
              "  </tbody>\n",
              "</table>\n",
              "</div>"
            ],
            "text/plain": [
              "                                              twitts  ...  cant_may\n",
              "0  @switchfoot http://twitpic.com/2y1zl - Awww, t...  ...         1\n",
              "1  is upset that he can't update his Facebook by ...  ...         0\n",
              "2  @Kenichan I dived many times for the ball. Man...  ...         1\n",
              "3    my whole body feels itchy and like its on fire   ...         0\n",
              "4  @nationwideclass no, it's not behaving at all....  ...         1\n",
              "\n",
              "[5 rows x 10 columns]"
            ]
          },
          "metadata": {
            "tags": []
          },
          "execution_count": 32
        }
      ]
    },
    {
      "cell_type": "markdown",
      "metadata": {
        "id": "A1cVuEKspwXf"
      },
      "source": [
        "PREPROCESAMIENTO Y LIMPIEZA"
      ]
    },
    {
      "cell_type": "markdown",
      "metadata": {
        "id": "9TU_b7sEp5Ip"
      },
      "source": [
        "Conversion a minusculas"
      ]
    },
    {
      "cell_type": "code",
      "metadata": {
        "id": "gX6EwkEmpz_M"
      },
      "source": [
        "df['twitts']=df['twitts'].apply(lambda x: x.lower())"
      ],
      "execution_count": null,
      "outputs": []
    },
    {
      "cell_type": "code",
      "metadata": {
        "id": "YsxcAoACqa8B",
        "outputId": "3f97cb80-ea3f-4e71-a377-66cbc83b73dd",
        "colab": {
          "base_uri": "https://localhost:8080/",
          "height": 204
        }
      },
      "source": [
        "df.head()"
      ],
      "execution_count": null,
      "outputs": [
        {
          "output_type": "execute_result",
          "data": {
            "text/html": [
              "<div>\n",
              "<style scoped>\n",
              "    .dataframe tbody tr th:only-of-type {\n",
              "        vertical-align: middle;\n",
              "    }\n",
              "\n",
              "    .dataframe tbody tr th {\n",
              "        vertical-align: top;\n",
              "    }\n",
              "\n",
              "    .dataframe thead th {\n",
              "        text-align: right;\n",
              "    }\n",
              "</style>\n",
              "<table border=\"1\" class=\"dataframe\">\n",
              "  <thead>\n",
              "    <tr style=\"text-align: right;\">\n",
              "      <th></th>\n",
              "      <th>twitts</th>\n",
              "      <th>Sent.</th>\n",
              "      <th>cant_palabra</th>\n",
              "      <th>cant_car</th>\n",
              "      <th>prom_log_pal</th>\n",
              "      <th>cant_stopWords</th>\n",
              "      <th>hashtags</th>\n",
              "      <th>menciones</th>\n",
              "      <th>cant_digit</th>\n",
              "      <th>cant_may</th>\n",
              "    </tr>\n",
              "  </thead>\n",
              "  <tbody>\n",
              "    <tr>\n",
              "      <th>0</th>\n",
              "      <td>@switchfoot http://twitpic.com/2y1zl - awww, t...</td>\n",
              "      <td>0</td>\n",
              "      <td>19</td>\n",
              "      <td>115</td>\n",
              "      <td>5.052632</td>\n",
              "      <td>4</td>\n",
              "      <td>0</td>\n",
              "      <td>1</td>\n",
              "      <td>0</td>\n",
              "      <td>1</td>\n",
              "    </tr>\n",
              "    <tr>\n",
              "      <th>1</th>\n",
              "      <td>is upset that he can't update his facebook by ...</td>\n",
              "      <td>0</td>\n",
              "      <td>21</td>\n",
              "      <td>111</td>\n",
              "      <td>4.285714</td>\n",
              "      <td>9</td>\n",
              "      <td>0</td>\n",
              "      <td>0</td>\n",
              "      <td>0</td>\n",
              "      <td>0</td>\n",
              "    </tr>\n",
              "    <tr>\n",
              "      <th>2</th>\n",
              "      <td>@kenichan i dived many times for the ball. man...</td>\n",
              "      <td>0</td>\n",
              "      <td>18</td>\n",
              "      <td>89</td>\n",
              "      <td>3.944444</td>\n",
              "      <td>7</td>\n",
              "      <td>0</td>\n",
              "      <td>1</td>\n",
              "      <td>0</td>\n",
              "      <td>1</td>\n",
              "    </tr>\n",
              "    <tr>\n",
              "      <th>3</th>\n",
              "      <td>my whole body feels itchy and like its on fire</td>\n",
              "      <td>0</td>\n",
              "      <td>10</td>\n",
              "      <td>47</td>\n",
              "      <td>3.700000</td>\n",
              "      <td>5</td>\n",
              "      <td>0</td>\n",
              "      <td>0</td>\n",
              "      <td>0</td>\n",
              "      <td>0</td>\n",
              "    </tr>\n",
              "    <tr>\n",
              "      <th>4</th>\n",
              "      <td>@nationwideclass no, it's not behaving at all....</td>\n",
              "      <td>0</td>\n",
              "      <td>21</td>\n",
              "      <td>111</td>\n",
              "      <td>4.285714</td>\n",
              "      <td>10</td>\n",
              "      <td>0</td>\n",
              "      <td>1</td>\n",
              "      <td>0</td>\n",
              "      <td>1</td>\n",
              "    </tr>\n",
              "  </tbody>\n",
              "</table>\n",
              "</div>"
            ],
            "text/plain": [
              "                                              twitts  ...  cant_may\n",
              "0  @switchfoot http://twitpic.com/2y1zl - awww, t...  ...         1\n",
              "1  is upset that he can't update his facebook by ...  ...         0\n",
              "2  @kenichan i dived many times for the ball. man...  ...         1\n",
              "3    my whole body feels itchy and like its on fire   ...         0\n",
              "4  @nationwideclass no, it's not behaving at all....  ...         1\n",
              "\n",
              "[5 rows x 10 columns]"
            ]
          },
          "metadata": {
            "tags": []
          },
          "execution_count": 34
        }
      ]
    },
    {
      "cell_type": "markdown",
      "metadata": {
        "id": "llimh0MgSfe8"
      },
      "source": [
        "CONTRACCIONES USADAS Y SU TRANSFORMACION"
      ]
    },
    {
      "cell_type": "code",
      "metadata": {
        "id": "QiHaRNqCSczO"
      },
      "source": [
        "contracciones={\n",
        "    \"ain't\":\"am not\",\n",
        "    \"aren't\":\"are not\",\n",
        "    \"can't\": \"cannot\",\n",
        "    \"can't've\":\"cannot have\",\n",
        "    \"'cause\": \"because\",\n",
        "    \"could've\":\"could have\",\n",
        "    \"couldn't\":\"could not\",\n",
        "    \"couldn't've\":\"could not have\",\n",
        "    \"didn't\":\"did not\",\n",
        "    \"doesn't\":\"does not\",\n",
        "    \"don't\":\"do not\",\n",
        "    \"hadn't\":\"had not\",\n",
        "    \"hadn't've\":\"had not have\",\n",
        "    \"hasn't\": \"has not\",\n",
        "    \"haven't\":\"have not\",\n",
        "    \"he'd\":\"he would\",\n",
        "    \"he'd've\":\"he would have\",\n",
        "    \"he'll\":\"he will\",\n",
        "    \"he'll've\":\"he will have\",\n",
        "    \"he's\":\"he is\",\n",
        "    \"how'd\":\"how did\",\n",
        "    \"how'd'y\":\"how do you\",\n",
        "    \"how'll\":\"how will\",\n",
        "    \"how's\":\"how does\",\n",
        "    \"i'd\":\"i would\",\n",
        "    \"i'd've\":\"i would have\",\n",
        "    \"i'll\":\"i will\",\n",
        "    \"i'll've\":\"i will have\",\n",
        "    \"i'm\":\"i am\",\n",
        "    \"i've\":\"i have\",\n",
        "    \"isn't\":\"is not\",\n",
        "    \"it'd\":\"it would\",\n",
        "    \"it'd've\":\"it would have\",\n",
        "    \"it'll\":\"it will\",\n",
        "    \"it'll've\":\"it will have\",\n",
        "    \"it's\":\"it is\",\n",
        "    \"let's\":\"let us\",\n",
        "    \"ma'am\":\"madam\",\n",
        "    \"mayn't\":\"may not\",\n",
        "    \"might've\": \"might have\",\n",
        "    \"mightn't\":\"might not\",\n",
        "    \"mightn't've\":\"might not have\",\n",
        "    \"must've\":\"must have\",\n",
        "    \"mustn't\":\"must not\",\n",
        "    \"mustn't've\":\"must not have\",\n",
        "    \"needn't\":\"need not\",\n",
        "    \"needn't've\":\"need not have\",\n",
        "    \"o'clock\":\"of the clock\",\n",
        "    \"oughtn't\":\"ought not\",\n",
        "    \"oughtn't've\":\"ought not have\",\n",
        "    \"shan't\":\"shall not\",\n",
        "    \"sha'n't\":\"shall not\",\n",
        "    \"shan't've\":\"shall not have\",\n",
        "    \"she'd\":\"she would\",\n",
        "    \"she'd've\":\"she would have\",\n",
        "    \"she'll\":\"she will\",\n",
        "    \"she'll've\":\"she will have\",\n",
        "    \"she's\":\"she is\",\n",
        "    \"should've\":\"should have\",\n",
        "    \"shouldn't\":\"should not\",\n",
        "    \"shouldn't've\":\"should not have\",\n",
        "    \"so've\":\"so have\",\n",
        "    \"so's\":\"so is\",\n",
        "    \"that'd\":\"that would\",\n",
        "    \"that'd've\":\"that would have\",\n",
        "    \"that's\":\"that is\",\n",
        "    \"there'd\":\"there would\",\n",
        "    \"there'd've\":\"there would have\",\n",
        "    \"there's\":\"there is\",\n",
        "    \"they'd\":\"they would\",\n",
        "    \"they'd've\":\"they would have\",\n",
        "    \"they'll\":\"they will\",\n",
        "    \"they'll've\":\"they will have\",\n",
        "    \"they're\":\"they are\",\n",
        "    \"they've\":\"they have\",\n",
        "    \"to've\":\"to have\",\n",
        "    \"wasn't\":\"was not\",\n",
        "    \" u \":\"you\",\n",
        "    \" ur \":\"your\",\n",
        "    \" n \":\"and\"\n",
        "\n",
        "}"
      ],
      "execution_count": null,
      "outputs": []
    },
    {
      "cell_type": "code",
      "metadata": {
        "id": "cLKnUnaPRlfM"
      },
      "source": [
        "def cont_to_exp(x):\n",
        "  if type(x) is str:\n",
        "    for key in contracciones:\n",
        "      value=contracciones[key]\n",
        "      x=x.replace(key, value)\n",
        "    return x\n",
        "  else:\n",
        "    return x"
      ],
      "execution_count": null,
      "outputs": []
    },
    {
      "cell_type": "code",
      "metadata": {
        "id": "k6FhIAxAeaVz"
      },
      "source": [
        "x=\"hi, i'd be happy\""
      ],
      "execution_count": null,
      "outputs": []
    },
    {
      "cell_type": "code",
      "metadata": {
        "id": "WpSyM2R2eeOZ",
        "outputId": "01c7153f-2aec-4540-ddbc-5c8bf9d0b4d8",
        "colab": {
          "base_uri": "https://localhost:8080/",
          "height": 35
        }
      },
      "source": [
        "cont_to_exp(x)"
      ],
      "execution_count": null,
      "outputs": [
        {
          "output_type": "execute_result",
          "data": {
            "application/vnd.google.colaboratory.intrinsic": {
              "type": "string"
            },
            "text/plain": [
              "'hi, i would be happy'"
            ]
          },
          "metadata": {
            "tags": []
          },
          "execution_count": 38
        }
      ]
    },
    {
      "cell_type": "code",
      "metadata": {
        "id": "Xen8FjIqeg5x",
        "outputId": "c23648ca-a2c8-44fd-c0a8-bd53130eea75",
        "colab": {
          "base_uri": "https://localhost:8080/",
          "height": 51
        }
      },
      "source": [
        "%%time\n",
        "df['twitts']=df['twitts'].apply(lambda x: cont_to_exp(x))"
      ],
      "execution_count": null,
      "outputs": [
        {
          "output_type": "stream",
          "text": [
            "CPU times: user 34.9 s, sys: 48.1 ms, total: 34.9 s\n",
            "Wall time: 35 s\n"
          ],
          "name": "stdout"
        }
      ]
    },
    {
      "cell_type": "code",
      "metadata": {
        "id": "5j7jL8W8hyY3",
        "outputId": "5f5d1400-b605-40ff-ba40-7766ff4d0825",
        "colab": {
          "base_uri": "https://localhost:8080/",
          "height": 204
        }
      },
      "source": [
        "df.head()"
      ],
      "execution_count": null,
      "outputs": [
        {
          "output_type": "execute_result",
          "data": {
            "text/html": [
              "<div>\n",
              "<style scoped>\n",
              "    .dataframe tbody tr th:only-of-type {\n",
              "        vertical-align: middle;\n",
              "    }\n",
              "\n",
              "    .dataframe tbody tr th {\n",
              "        vertical-align: top;\n",
              "    }\n",
              "\n",
              "    .dataframe thead th {\n",
              "        text-align: right;\n",
              "    }\n",
              "</style>\n",
              "<table border=\"1\" class=\"dataframe\">\n",
              "  <thead>\n",
              "    <tr style=\"text-align: right;\">\n",
              "      <th></th>\n",
              "      <th>twitts</th>\n",
              "      <th>Sent.</th>\n",
              "      <th>cant_palabra</th>\n",
              "      <th>cant_car</th>\n",
              "      <th>prom_log_pal</th>\n",
              "      <th>cant_stopWords</th>\n",
              "      <th>hashtags</th>\n",
              "      <th>menciones</th>\n",
              "      <th>cant_digit</th>\n",
              "      <th>cant_may</th>\n",
              "    </tr>\n",
              "  </thead>\n",
              "  <tbody>\n",
              "    <tr>\n",
              "      <th>0</th>\n",
              "      <td>@switchfoot http://twitpic.com/2y1zl - awww, t...</td>\n",
              "      <td>0</td>\n",
              "      <td>19</td>\n",
              "      <td>115</td>\n",
              "      <td>5.052632</td>\n",
              "      <td>4</td>\n",
              "      <td>0</td>\n",
              "      <td>1</td>\n",
              "      <td>0</td>\n",
              "      <td>1</td>\n",
              "    </tr>\n",
              "    <tr>\n",
              "      <th>1</th>\n",
              "      <td>is upset that he cannot update his facebook by...</td>\n",
              "      <td>0</td>\n",
              "      <td>21</td>\n",
              "      <td>111</td>\n",
              "      <td>4.285714</td>\n",
              "      <td>9</td>\n",
              "      <td>0</td>\n",
              "      <td>0</td>\n",
              "      <td>0</td>\n",
              "      <td>0</td>\n",
              "    </tr>\n",
              "    <tr>\n",
              "      <th>2</th>\n",
              "      <td>@kenichan i dived many times for the ball. man...</td>\n",
              "      <td>0</td>\n",
              "      <td>18</td>\n",
              "      <td>89</td>\n",
              "      <td>3.944444</td>\n",
              "      <td>7</td>\n",
              "      <td>0</td>\n",
              "      <td>1</td>\n",
              "      <td>0</td>\n",
              "      <td>1</td>\n",
              "    </tr>\n",
              "    <tr>\n",
              "      <th>3</th>\n",
              "      <td>my whole body feels itchy and like its on fire</td>\n",
              "      <td>0</td>\n",
              "      <td>10</td>\n",
              "      <td>47</td>\n",
              "      <td>3.700000</td>\n",
              "      <td>5</td>\n",
              "      <td>0</td>\n",
              "      <td>0</td>\n",
              "      <td>0</td>\n",
              "      <td>0</td>\n",
              "    </tr>\n",
              "    <tr>\n",
              "      <th>4</th>\n",
              "      <td>@nationwideclass no, it is not behaving at all...</td>\n",
              "      <td>0</td>\n",
              "      <td>21</td>\n",
              "      <td>111</td>\n",
              "      <td>4.285714</td>\n",
              "      <td>10</td>\n",
              "      <td>0</td>\n",
              "      <td>1</td>\n",
              "      <td>0</td>\n",
              "      <td>1</td>\n",
              "    </tr>\n",
              "  </tbody>\n",
              "</table>\n",
              "</div>"
            ],
            "text/plain": [
              "                                              twitts  ...  cant_may\n",
              "0  @switchfoot http://twitpic.com/2y1zl - awww, t...  ...         1\n",
              "1  is upset that he cannot update his facebook by...  ...         0\n",
              "2  @kenichan i dived many times for the ball. man...  ...         1\n",
              "3    my whole body feels itchy and like its on fire   ...         0\n",
              "4  @nationwideclass no, it is not behaving at all...  ...         1\n",
              "\n",
              "[5 rows x 10 columns]"
            ]
          },
          "metadata": {
            "tags": []
          },
          "execution_count": 40
        }
      ]
    },
    {
      "cell_type": "markdown",
      "metadata": {
        "id": "3HupBZcQh45x"
      },
      "source": [
        "CONTEO Y ELIMINACION DE EMAILS"
      ]
    },
    {
      "cell_type": "code",
      "metadata": {
        "id": "l5dQyLizh0sz"
      },
      "source": [
        "import re"
      ],
      "execution_count": null,
      "outputs": []
    },
    {
      "cell_type": "code",
      "metadata": {
        "id": "KELRWscpjMT4"
      },
      "source": [
        "df['emails']=df['twitts'].apply(lambda x: re.findall(r'([a-zA-Z0-9+._-]+@[a-zA-Z0-9._-]+\\.[a-zA-Z0-9_-]+)',x))"
      ],
      "execution_count": null,
      "outputs": []
    },
    {
      "cell_type": "code",
      "metadata": {
        "id": "M6gtwmURmoQ3"
      },
      "source": [
        "df['cant_emails']=df['emails'].apply(lambda x: len(x))"
      ],
      "execution_count": null,
      "outputs": []
    },
    {
      "cell_type": "code",
      "metadata": {
        "id": "B3vA3sacm8AK",
        "outputId": "b8157f65-b002-4964-ddaa-2816aa67784b",
        "colab": {
          "base_uri": "https://localhost:8080/",
          "height": 626
        }
      },
      "source": [
        "df[df['cant_emails'] > 0]"
      ],
      "execution_count": null,
      "outputs": [
        {
          "output_type": "execute_result",
          "data": {
            "text/html": [
              "<div>\n",
              "<style scoped>\n",
              "    .dataframe tbody tr th:only-of-type {\n",
              "        vertical-align: middle;\n",
              "    }\n",
              "\n",
              "    .dataframe tbody tr th {\n",
              "        vertical-align: top;\n",
              "    }\n",
              "\n",
              "    .dataframe thead th {\n",
              "        text-align: right;\n",
              "    }\n",
              "</style>\n",
              "<table border=\"1\" class=\"dataframe\">\n",
              "  <thead>\n",
              "    <tr style=\"text-align: right;\">\n",
              "      <th></th>\n",
              "      <th>twitts</th>\n",
              "      <th>Sent.</th>\n",
              "      <th>cant_palabra</th>\n",
              "      <th>cant_car</th>\n",
              "      <th>prom_log_pal</th>\n",
              "      <th>cant_stopWords</th>\n",
              "      <th>hashtags</th>\n",
              "      <th>menciones</th>\n",
              "      <th>cant_digit</th>\n",
              "      <th>cant_may</th>\n",
              "      <th>emails</th>\n",
              "      <th>cant_emails</th>\n",
              "    </tr>\n",
              "  </thead>\n",
              "  <tbody>\n",
              "    <tr>\n",
              "      <th>4054</th>\n",
              "      <td>i want a new laptop.  hp tx2000 is the bomb. :...</td>\n",
              "      <td>0</td>\n",
              "      <td>20</td>\n",
              "      <td>103</td>\n",
              "      <td>4.150000</td>\n",
              "      <td>6</td>\n",
              "      <td>0</td>\n",
              "      <td>0</td>\n",
              "      <td>0</td>\n",
              "      <td>4</td>\n",
              "      <td>[gabbehhramos@yahoo.com]</td>\n",
              "      <td>1</td>\n",
              "    </tr>\n",
              "    <tr>\n",
              "      <th>7917</th>\n",
              "      <td>who stole elledell@gmail.com?</td>\n",
              "      <td>0</td>\n",
              "      <td>3</td>\n",
              "      <td>31</td>\n",
              "      <td>9.000000</td>\n",
              "      <td>1</td>\n",
              "      <td>0</td>\n",
              "      <td>0</td>\n",
              "      <td>0</td>\n",
              "      <td>0</td>\n",
              "      <td>[elledell@gmail.com]</td>\n",
              "      <td>1</td>\n",
              "    </tr>\n",
              "    <tr>\n",
              "      <th>8496</th>\n",
              "      <td>@alexistehpom  really? did you send out all th...</td>\n",
              "      <td>0</td>\n",
              "      <td>20</td>\n",
              "      <td>130</td>\n",
              "      <td>5.500000</td>\n",
              "      <td>11</td>\n",
              "      <td>0</td>\n",
              "      <td>1</td>\n",
              "      <td>0</td>\n",
              "      <td>0</td>\n",
              "      <td>[missataari@gmail.com]</td>\n",
              "      <td>1</td>\n",
              "    </tr>\n",
              "    <tr>\n",
              "      <th>10290</th>\n",
              "      <td>@laureystack awh...that is kinda sad  lol add ...</td>\n",
              "      <td>0</td>\n",
              "      <td>8</td>\n",
              "      <td>76</td>\n",
              "      <td>8.500000</td>\n",
              "      <td>0</td>\n",
              "      <td>0</td>\n",
              "      <td>1</td>\n",
              "      <td>0</td>\n",
              "      <td>0</td>\n",
              "      <td>[hello.kitty.65@hotmail.com]</td>\n",
              "      <td>1</td>\n",
              "    </tr>\n",
              "    <tr>\n",
              "      <th>16413</th>\n",
              "      <td>@jilliancyork  got 2 bottom of it, human error...</td>\n",
              "      <td>0</td>\n",
              "      <td>21</td>\n",
              "      <td>137</td>\n",
              "      <td>5.428571</td>\n",
              "      <td>7</td>\n",
              "      <td>0</td>\n",
              "      <td>1</td>\n",
              "      <td>1</td>\n",
              "      <td>0</td>\n",
              "      <td>[press@linkedin.com]</td>\n",
              "      <td>1</td>\n",
              "    </tr>\n",
              "    <tr>\n",
              "      <th>...</th>\n",
              "      <td>...</td>\n",
              "      <td>...</td>\n",
              "      <td>...</td>\n",
              "      <td>...</td>\n",
              "      <td>...</td>\n",
              "      <td>...</td>\n",
              "      <td>...</td>\n",
              "      <td>...</td>\n",
              "      <td>...</td>\n",
              "      <td>...</td>\n",
              "      <td>...</td>\n",
              "      <td>...</td>\n",
              "    </tr>\n",
              "    <tr>\n",
              "      <th>1588338</th>\n",
              "      <td>@boudoirsextoys do not forget to shoot me an e...</td>\n",
              "      <td>4</td>\n",
              "      <td>21</td>\n",
              "      <td>127</td>\n",
              "      <td>5.047619</td>\n",
              "      <td>10</td>\n",
              "      <td>0</td>\n",
              "      <td>1</td>\n",
              "      <td>0</td>\n",
              "      <td>1</td>\n",
              "      <td>[hello@tastelikekisses.com]</td>\n",
              "      <td>1</td>\n",
              "    </tr>\n",
              "    <tr>\n",
              "      <th>1589132</th>\n",
              "      <td>hi there , anybody got a job for me  oil &amp;amp;...</td>\n",
              "      <td>4</td>\n",
              "      <td>15</td>\n",
              "      <td>98</td>\n",
              "      <td>5.533333</td>\n",
              "      <td>4</td>\n",
              "      <td>0</td>\n",
              "      <td>0</td>\n",
              "      <td>0</td>\n",
              "      <td>0</td>\n",
              "      <td>[aadvanspijk@yahoo.co.uk]</td>\n",
              "      <td>1</td>\n",
              "    </tr>\n",
              "    <tr>\n",
              "      <th>1590489</th>\n",
              "      <td>@clericaaron yes, lbruton@tulsalanparty.com is...</td>\n",
              "      <td>4</td>\n",
              "      <td>14</td>\n",
              "      <td>95</td>\n",
              "      <td>5.785714</td>\n",
              "      <td>6</td>\n",
              "      <td>0</td>\n",
              "      <td>1</td>\n",
              "      <td>0</td>\n",
              "      <td>1</td>\n",
              "      <td>[lbruton@tulsalanparty.com]</td>\n",
              "      <td>1</td>\n",
              "    </tr>\n",
              "    <tr>\n",
              "      <th>1591675</th>\n",
              "      <td>@miss_ellen good morning!!!!   congrats!    se...</td>\n",
              "      <td>4</td>\n",
              "      <td>9</td>\n",
              "      <td>77</td>\n",
              "      <td>7.111111</td>\n",
              "      <td>2</td>\n",
              "      <td>0</td>\n",
              "      <td>1</td>\n",
              "      <td>0</td>\n",
              "      <td>0</td>\n",
              "      <td>[jill@q985fm.com]</td>\n",
              "      <td>1</td>\n",
              "    </tr>\n",
              "    <tr>\n",
              "      <th>1599053</th>\n",
              "      <td>@thejoshlynn you are! btw send me an email. wa...</td>\n",
              "      <td>4</td>\n",
              "      <td>19</td>\n",
              "      <td>145</td>\n",
              "      <td>6.631579</td>\n",
              "      <td>7</td>\n",
              "      <td>0</td>\n",
              "      <td>1</td>\n",
              "      <td>0</td>\n",
              "      <td>1</td>\n",
              "      <td>[marni@creativecustomcardboxes.com]</td>\n",
              "      <td>1</td>\n",
              "    </tr>\n",
              "  </tbody>\n",
              "</table>\n",
              "<p>567 rows × 12 columns</p>\n",
              "</div>"
            ],
            "text/plain": [
              "                                                    twitts  ...  cant_emails\n",
              "4054     i want a new laptop.  hp tx2000 is the bomb. :...  ...            1\n",
              "7917                       who stole elledell@gmail.com?    ...            1\n",
              "8496     @alexistehpom  really? did you send out all th...  ...            1\n",
              "10290    @laureystack awh...that is kinda sad  lol add ...  ...            1\n",
              "16413    @jilliancyork  got 2 bottom of it, human error...  ...            1\n",
              "...                                                    ...  ...          ...\n",
              "1588338  @boudoirsextoys do not forget to shoot me an e...  ...            1\n",
              "1589132  hi there , anybody got a job for me  oil &amp;...  ...            1\n",
              "1590489  @clericaaron yes, lbruton@tulsalanparty.com is...  ...            1\n",
              "1591675  @miss_ellen good morning!!!!   congrats!    se...  ...            1\n",
              "1599053  @thejoshlynn you are! btw send me an email. wa...  ...            1\n",
              "\n",
              "[567 rows x 12 columns]"
            ]
          },
          "metadata": {
            "tags": []
          },
          "execution_count": 44
        }
      ]
    },
    {
      "cell_type": "markdown",
      "metadata": {
        "id": "Kp9Hr6JEYd5d"
      },
      "source": [
        "ELIMINACION DEL EMAILS EN EL TWITT"
      ]
    },
    {
      "cell_type": "code",
      "metadata": {
        "id": "FAhTEf6SnWmv",
        "outputId": "6df75b89-d9a1-407d-ea73-541a1624dc24",
        "colab": {
          "base_uri": "https://localhost:8080/",
          "height": 35
        }
      },
      "source": [
        "re.sub(r'([a-zA-Z0-9+._-]+@[a-zA-Z0-9._-]+\\.[a-zA-Z0-9_-]+)','',x)"
      ],
      "execution_count": null,
      "outputs": [
        {
          "output_type": "execute_result",
          "data": {
            "application/vnd.google.colaboratory.intrinsic": {
              "type": "string"
            },
            "text/plain": [
              "\"hi, i'd be happy\""
            ]
          },
          "metadata": {
            "tags": []
          },
          "execution_count": 45
        }
      ]
    },
    {
      "cell_type": "code",
      "metadata": {
        "id": "_PMBbMk1oOE7"
      },
      "source": [
        "df['twitts']=df['twitts'].apply(lambda x: re.sub(r'([a-zA-Z0-9+._-]+@[a-zA-Z0-9._-]+\\.[a-zA-Z0-9_-]+)','',x))"
      ],
      "execution_count": null,
      "outputs": []
    },
    {
      "cell_type": "code",
      "metadata": {
        "id": "QjjsSrdsorh3",
        "outputId": "b3966bcf-8035-44b2-dd27-107a2a96369e",
        "colab": {
          "base_uri": "https://localhost:8080/",
          "height": 428
        }
      },
      "source": [
        "df[df['cant_emails'] > 0].head()"
      ],
      "execution_count": null,
      "outputs": [
        {
          "output_type": "execute_result",
          "data": {
            "text/html": [
              "<div>\n",
              "<style scoped>\n",
              "    .dataframe tbody tr th:only-of-type {\n",
              "        vertical-align: middle;\n",
              "    }\n",
              "\n",
              "    .dataframe tbody tr th {\n",
              "        vertical-align: top;\n",
              "    }\n",
              "\n",
              "    .dataframe thead th {\n",
              "        text-align: right;\n",
              "    }\n",
              "</style>\n",
              "<table border=\"1\" class=\"dataframe\">\n",
              "  <thead>\n",
              "    <tr style=\"text-align: right;\">\n",
              "      <th></th>\n",
              "      <th>twitts</th>\n",
              "      <th>Sent.</th>\n",
              "      <th>cant_palabra</th>\n",
              "      <th>cant_car</th>\n",
              "      <th>prom_log_pal</th>\n",
              "      <th>cant_stopWords</th>\n",
              "      <th>hashtags</th>\n",
              "      <th>menciones</th>\n",
              "      <th>cant_digit</th>\n",
              "      <th>cant_may</th>\n",
              "      <th>emails</th>\n",
              "      <th>cant_emails</th>\n",
              "    </tr>\n",
              "  </thead>\n",
              "  <tbody>\n",
              "    <tr>\n",
              "      <th>4054</th>\n",
              "      <td>i want a new laptop.  hp tx2000 is the bomb. :...</td>\n",
              "      <td>0</td>\n",
              "      <td>20</td>\n",
              "      <td>103</td>\n",
              "      <td>4.150000</td>\n",
              "      <td>6</td>\n",
              "      <td>0</td>\n",
              "      <td>0</td>\n",
              "      <td>0</td>\n",
              "      <td>4</td>\n",
              "      <td>[gabbehhramos@yahoo.com]</td>\n",
              "      <td>1</td>\n",
              "    </tr>\n",
              "    <tr>\n",
              "      <th>7917</th>\n",
              "      <td>who stole ?</td>\n",
              "      <td>0</td>\n",
              "      <td>3</td>\n",
              "      <td>31</td>\n",
              "      <td>9.000000</td>\n",
              "      <td>1</td>\n",
              "      <td>0</td>\n",
              "      <td>0</td>\n",
              "      <td>0</td>\n",
              "      <td>0</td>\n",
              "      <td>[elledell@gmail.com]</td>\n",
              "      <td>1</td>\n",
              "    </tr>\n",
              "    <tr>\n",
              "      <th>8496</th>\n",
              "      <td>@alexistehpom  really? did you send out all th...</td>\n",
              "      <td>0</td>\n",
              "      <td>20</td>\n",
              "      <td>130</td>\n",
              "      <td>5.500000</td>\n",
              "      <td>11</td>\n",
              "      <td>0</td>\n",
              "      <td>1</td>\n",
              "      <td>0</td>\n",
              "      <td>0</td>\n",
              "      <td>[missataari@gmail.com]</td>\n",
              "      <td>1</td>\n",
              "    </tr>\n",
              "    <tr>\n",
              "      <th>10290</th>\n",
              "      <td>@laureystack awh...that is kinda sad  lol add ...</td>\n",
              "      <td>0</td>\n",
              "      <td>8</td>\n",
              "      <td>76</td>\n",
              "      <td>8.500000</td>\n",
              "      <td>0</td>\n",
              "      <td>0</td>\n",
              "      <td>1</td>\n",
              "      <td>0</td>\n",
              "      <td>0</td>\n",
              "      <td>[hello.kitty.65@hotmail.com]</td>\n",
              "      <td>1</td>\n",
              "    </tr>\n",
              "    <tr>\n",
              "      <th>16413</th>\n",
              "      <td>@jilliancyork  got 2 bottom of it, human error...</td>\n",
              "      <td>0</td>\n",
              "      <td>21</td>\n",
              "      <td>137</td>\n",
              "      <td>5.428571</td>\n",
              "      <td>7</td>\n",
              "      <td>0</td>\n",
              "      <td>1</td>\n",
              "      <td>1</td>\n",
              "      <td>0</td>\n",
              "      <td>[press@linkedin.com]</td>\n",
              "      <td>1</td>\n",
              "    </tr>\n",
              "  </tbody>\n",
              "</table>\n",
              "</div>"
            ],
            "text/plain": [
              "                                                  twitts  ...  cant_emails\n",
              "4054   i want a new laptop.  hp tx2000 is the bomb. :...  ...            1\n",
              "7917                                       who stole ?    ...            1\n",
              "8496   @alexistehpom  really? did you send out all th...  ...            1\n",
              "10290  @laureystack awh...that is kinda sad  lol add ...  ...            1\n",
              "16413  @jilliancyork  got 2 bottom of it, human error...  ...            1\n",
              "\n",
              "[5 rows x 12 columns]"
            ]
          },
          "metadata": {
            "tags": []
          },
          "execution_count": 47
        }
      ]
    },
    {
      "cell_type": "markdown",
      "metadata": {
        "id": "JCpd5D32pGkM"
      },
      "source": [
        "CONTEO DE URLS Y ELIMINACION DEL TWITT"
      ]
    },
    {
      "cell_type": "code",
      "metadata": {
        "id": "r-SHpoh2pOeX"
      },
      "source": [
        "x='hi, to watch more visit https://youtube.com/kgptalkie'"
      ],
      "execution_count": null,
      "outputs": []
    },
    {
      "cell_type": "code",
      "metadata": {
        "id": "CKDHisYYpd7D",
        "outputId": "ea3e7280-1ea2-4789-e19d-29cd5eb33c23",
        "colab": {
          "base_uri": "https://localhost:8080/",
          "height": 34
        }
      },
      "source": [
        "re.findall(r'(http|ftp|https)://([\\w_-]+(?:(?:\\.[\\w_-]+)+))([\\w.,@?^=%&:/~+#-]*[\\w@?^=%&/~+#-])', x)"
      ],
      "execution_count": null,
      "outputs": [
        {
          "output_type": "execute_result",
          "data": {
            "text/plain": [
              "[('https', 'youtube.com', '/kgptalkie')]"
            ]
          },
          "metadata": {
            "tags": []
          },
          "execution_count": 49
        }
      ]
    },
    {
      "cell_type": "code",
      "metadata": {
        "id": "-9ukNnz_sdDq"
      },
      "source": [
        "df['urls_flag']=df['twitts'].apply(lambda x: len(re.findall(r'(http|ftp|https)://([\\w_-]+(?:(?:\\.[\\w_-]+)+))([\\w.,@?^=%&:/~+#-]*[\\w@?^=%&/~+#-])', x)))"
      ],
      "execution_count": null,
      "outputs": []
    },
    {
      "cell_type": "code",
      "metadata": {
        "id": "Rh4wGYeayKU6",
        "outputId": "60dd636f-ef17-43e0-cd30-e5605a062e19",
        "colab": {
          "base_uri": "https://localhost:8080/",
          "height": 35
        }
      },
      "source": [
        "re.sub(r'(http|ftp|https)://([\\w_-]+(?:(?:\\.[\\w_-]+)+))([\\w.,@?^=%&:/~+#-]*[\\w@?^=%&/~+#-])','',x)"
      ],
      "execution_count": null,
      "outputs": [
        {
          "output_type": "execute_result",
          "data": {
            "application/vnd.google.colaboratory.intrinsic": {
              "type": "string"
            },
            "text/plain": [
              "'hi, to watch more visit '"
            ]
          },
          "metadata": {
            "tags": []
          },
          "execution_count": 51
        }
      ]
    },
    {
      "cell_type": "code",
      "metadata": {
        "id": "JnNHZ-W5a8NV"
      },
      "source": [
        "df['twitts']=df['twitts'].apply(lambda x: re.sub(r'(http|ftp|https)://([\\w_-]+(?:(?:\\.[\\w_-]+)+))([\\w.,@?^=%&:/~+#-]*[\\w@?^=%&/~+#-])','',x))"
      ],
      "execution_count": null,
      "outputs": []
    },
    {
      "cell_type": "code",
      "metadata": {
        "id": "Ee3qQCwzycGx",
        "outputId": "6984731b-b413-4ce5-b07c-e61e1a3858ab",
        "colab": {
          "base_uri": "https://localhost:8080/",
          "height": 357
        }
      },
      "source": [
        "df.head()"
      ],
      "execution_count": null,
      "outputs": [
        {
          "output_type": "execute_result",
          "data": {
            "text/html": [
              "<div>\n",
              "<style scoped>\n",
              "    .dataframe tbody tr th:only-of-type {\n",
              "        vertical-align: middle;\n",
              "    }\n",
              "\n",
              "    .dataframe tbody tr th {\n",
              "        vertical-align: top;\n",
              "    }\n",
              "\n",
              "    .dataframe thead th {\n",
              "        text-align: right;\n",
              "    }\n",
              "</style>\n",
              "<table border=\"1\" class=\"dataframe\">\n",
              "  <thead>\n",
              "    <tr style=\"text-align: right;\">\n",
              "      <th></th>\n",
              "      <th>twitts</th>\n",
              "      <th>Sent.</th>\n",
              "      <th>cant_palabra</th>\n",
              "      <th>cant_car</th>\n",
              "      <th>prom_log_pal</th>\n",
              "      <th>cant_stopWords</th>\n",
              "      <th>hashtags</th>\n",
              "      <th>menciones</th>\n",
              "      <th>cant_digit</th>\n",
              "      <th>cant_may</th>\n",
              "      <th>emails</th>\n",
              "      <th>cant_emails</th>\n",
              "      <th>urls_flag</th>\n",
              "    </tr>\n",
              "  </thead>\n",
              "  <tbody>\n",
              "    <tr>\n",
              "      <th>0</th>\n",
              "      <td>@switchfoot  - awww, that is a bummer.  you sh...</td>\n",
              "      <td>0</td>\n",
              "      <td>19</td>\n",
              "      <td>115</td>\n",
              "      <td>5.052632</td>\n",
              "      <td>4</td>\n",
              "      <td>0</td>\n",
              "      <td>1</td>\n",
              "      <td>0</td>\n",
              "      <td>1</td>\n",
              "      <td>[]</td>\n",
              "      <td>0</td>\n",
              "      <td>1</td>\n",
              "    </tr>\n",
              "    <tr>\n",
              "      <th>1</th>\n",
              "      <td>is upset that he cannot update his facebook by...</td>\n",
              "      <td>0</td>\n",
              "      <td>21</td>\n",
              "      <td>111</td>\n",
              "      <td>4.285714</td>\n",
              "      <td>9</td>\n",
              "      <td>0</td>\n",
              "      <td>0</td>\n",
              "      <td>0</td>\n",
              "      <td>0</td>\n",
              "      <td>[]</td>\n",
              "      <td>0</td>\n",
              "      <td>0</td>\n",
              "    </tr>\n",
              "    <tr>\n",
              "      <th>2</th>\n",
              "      <td>@kenichan i dived many times for the ball. man...</td>\n",
              "      <td>0</td>\n",
              "      <td>18</td>\n",
              "      <td>89</td>\n",
              "      <td>3.944444</td>\n",
              "      <td>7</td>\n",
              "      <td>0</td>\n",
              "      <td>1</td>\n",
              "      <td>0</td>\n",
              "      <td>1</td>\n",
              "      <td>[]</td>\n",
              "      <td>0</td>\n",
              "      <td>0</td>\n",
              "    </tr>\n",
              "    <tr>\n",
              "      <th>3</th>\n",
              "      <td>my whole body feels itchy and like its on fire</td>\n",
              "      <td>0</td>\n",
              "      <td>10</td>\n",
              "      <td>47</td>\n",
              "      <td>3.700000</td>\n",
              "      <td>5</td>\n",
              "      <td>0</td>\n",
              "      <td>0</td>\n",
              "      <td>0</td>\n",
              "      <td>0</td>\n",
              "      <td>[]</td>\n",
              "      <td>0</td>\n",
              "      <td>0</td>\n",
              "    </tr>\n",
              "    <tr>\n",
              "      <th>4</th>\n",
              "      <td>@nationwideclass no, it is not behaving at all...</td>\n",
              "      <td>0</td>\n",
              "      <td>21</td>\n",
              "      <td>111</td>\n",
              "      <td>4.285714</td>\n",
              "      <td>10</td>\n",
              "      <td>0</td>\n",
              "      <td>1</td>\n",
              "      <td>0</td>\n",
              "      <td>1</td>\n",
              "      <td>[]</td>\n",
              "      <td>0</td>\n",
              "      <td>0</td>\n",
              "    </tr>\n",
              "  </tbody>\n",
              "</table>\n",
              "</div>"
            ],
            "text/plain": [
              "                                              twitts  ...  urls_flag\n",
              "0  @switchfoot  - awww, that is a bummer.  you sh...  ...          1\n",
              "1  is upset that he cannot update his facebook by...  ...          0\n",
              "2  @kenichan i dived many times for the ball. man...  ...          0\n",
              "3    my whole body feels itchy and like its on fire   ...          0\n",
              "4  @nationwideclass no, it is not behaving at all...  ...          0\n",
              "\n",
              "[5 rows x 13 columns]"
            ]
          },
          "metadata": {
            "tags": []
          },
          "execution_count": 53
        }
      ]
    },
    {
      "cell_type": "code",
      "metadata": {
        "id": "nPHTq6TDyeRB",
        "outputId": "4690a1f3-bd50-499a-9f2f-96139a24750b",
        "colab": {
          "base_uri": "https://localhost:8080/",
          "height": 35
        }
      },
      "source": [
        "df.loc[0]['twitts']"
      ],
      "execution_count": null,
      "outputs": [
        {
          "output_type": "execute_result",
          "data": {
            "application/vnd.google.colaboratory.intrinsic": {
              "type": "string"
            },
            "text/plain": [
              "'@switchfoot  - awww, that is a bummer.  you shoulda got david carr of third day to do it. ;d'"
            ]
          },
          "metadata": {
            "tags": []
          },
          "execution_count": 54
        }
      ]
    },
    {
      "cell_type": "markdown",
      "metadata": {
        "id": "Gj4A6BVhcCkQ"
      },
      "source": [
        "ELIMINACION DE RT"
      ]
    },
    {
      "cell_type": "code",
      "metadata": {
        "id": "o7XWRh1Fy58o"
      },
      "source": [
        "df['twitts']=df['twitts'].apply(lambda x: re.sub('RT', '',x))"
      ],
      "execution_count": null,
      "outputs": []
    },
    {
      "cell_type": "markdown",
      "metadata": {
        "id": "Ejb9ROpacgej"
      },
      "source": [
        "ELIMINACION DE CARACTERES ESPECIALES O SIGNOS DE PUNTUACION"
      ]
    },
    {
      "cell_type": "code",
      "metadata": {
        "id": "jo6mcSLlcaAQ"
      },
      "source": [
        "df['twitts']=df['twitts'].apply(lambda x: re.sub('[^A-Z a-z 0-9-]+','',x))"
      ],
      "execution_count": null,
      "outputs": []
    },
    {
      "cell_type": "code",
      "metadata": {
        "id": "iAD6s4jnddHe",
        "outputId": "0cca6ef9-19c7-47b9-c110-3316cf516914",
        "colab": {
          "base_uri": "https://localhost:8080/",
          "height": 340
        }
      },
      "source": [
        "df.head()"
      ],
      "execution_count": null,
      "outputs": [
        {
          "output_type": "execute_result",
          "data": {
            "text/html": [
              "<div>\n",
              "<style scoped>\n",
              "    .dataframe tbody tr th:only-of-type {\n",
              "        vertical-align: middle;\n",
              "    }\n",
              "\n",
              "    .dataframe tbody tr th {\n",
              "        vertical-align: top;\n",
              "    }\n",
              "\n",
              "    .dataframe thead th {\n",
              "        text-align: right;\n",
              "    }\n",
              "</style>\n",
              "<table border=\"1\" class=\"dataframe\">\n",
              "  <thead>\n",
              "    <tr style=\"text-align: right;\">\n",
              "      <th></th>\n",
              "      <th>twitts</th>\n",
              "      <th>Sent.</th>\n",
              "      <th>cant_palabra</th>\n",
              "      <th>cant_car</th>\n",
              "      <th>prom_log_pal</th>\n",
              "      <th>cant_stopWords</th>\n",
              "      <th>hashtags</th>\n",
              "      <th>menciones</th>\n",
              "      <th>cant_digit</th>\n",
              "      <th>cant_may</th>\n",
              "      <th>emails</th>\n",
              "      <th>cant_emails</th>\n",
              "      <th>urls_flag</th>\n",
              "    </tr>\n",
              "  </thead>\n",
              "  <tbody>\n",
              "    <tr>\n",
              "      <th>0</th>\n",
              "      <td>switchfoot  - awww that is a bummer  you shoul...</td>\n",
              "      <td>0</td>\n",
              "      <td>19</td>\n",
              "      <td>115</td>\n",
              "      <td>5.052632</td>\n",
              "      <td>4</td>\n",
              "      <td>0</td>\n",
              "      <td>1</td>\n",
              "      <td>0</td>\n",
              "      <td>1</td>\n",
              "      <td>[]</td>\n",
              "      <td>0</td>\n",
              "      <td>1</td>\n",
              "    </tr>\n",
              "    <tr>\n",
              "      <th>1</th>\n",
              "      <td>is upset that he cannot update his facebook by...</td>\n",
              "      <td>0</td>\n",
              "      <td>21</td>\n",
              "      <td>111</td>\n",
              "      <td>4.285714</td>\n",
              "      <td>9</td>\n",
              "      <td>0</td>\n",
              "      <td>0</td>\n",
              "      <td>0</td>\n",
              "      <td>0</td>\n",
              "      <td>[]</td>\n",
              "      <td>0</td>\n",
              "      <td>0</td>\n",
              "    </tr>\n",
              "    <tr>\n",
              "      <th>2</th>\n",
              "      <td>kenichan i dived many times for the ball manag...</td>\n",
              "      <td>0</td>\n",
              "      <td>18</td>\n",
              "      <td>89</td>\n",
              "      <td>3.944444</td>\n",
              "      <td>7</td>\n",
              "      <td>0</td>\n",
              "      <td>1</td>\n",
              "      <td>0</td>\n",
              "      <td>1</td>\n",
              "      <td>[]</td>\n",
              "      <td>0</td>\n",
              "      <td>0</td>\n",
              "    </tr>\n",
              "    <tr>\n",
              "      <th>3</th>\n",
              "      <td>my whole body feels itchy and like its on fire</td>\n",
              "      <td>0</td>\n",
              "      <td>10</td>\n",
              "      <td>47</td>\n",
              "      <td>3.700000</td>\n",
              "      <td>5</td>\n",
              "      <td>0</td>\n",
              "      <td>0</td>\n",
              "      <td>0</td>\n",
              "      <td>0</td>\n",
              "      <td>[]</td>\n",
              "      <td>0</td>\n",
              "      <td>0</td>\n",
              "    </tr>\n",
              "    <tr>\n",
              "      <th>4</th>\n",
              "      <td>nationwideclass no it is not behaving at all i...</td>\n",
              "      <td>0</td>\n",
              "      <td>21</td>\n",
              "      <td>111</td>\n",
              "      <td>4.285714</td>\n",
              "      <td>10</td>\n",
              "      <td>0</td>\n",
              "      <td>1</td>\n",
              "      <td>0</td>\n",
              "      <td>1</td>\n",
              "      <td>[]</td>\n",
              "      <td>0</td>\n",
              "      <td>0</td>\n",
              "    </tr>\n",
              "  </tbody>\n",
              "</table>\n",
              "</div>"
            ],
            "text/plain": [
              "                                              twitts  ...  urls_flag\n",
              "0  switchfoot  - awww that is a bummer  you shoul...  ...          1\n",
              "1  is upset that he cannot update his facebook by...  ...          0\n",
              "2  kenichan i dived many times for the ball manag...  ...          0\n",
              "3    my whole body feels itchy and like its on fire   ...          0\n",
              "4  nationwideclass no it is not behaving at all i...  ...          0\n",
              "\n",
              "[5 rows x 13 columns]"
            ]
          },
          "metadata": {
            "tags": []
          },
          "execution_count": 57
        }
      ]
    },
    {
      "cell_type": "markdown",
      "metadata": {
        "id": "yuHOqBgwZN4E"
      },
      "source": [
        "REMOVIENDO ESPACIOS MULTIPLES"
      ]
    },
    {
      "cell_type": "code",
      "metadata": {
        "id": "RHh1T6s2derX"
      },
      "source": [
        "x='thanks      for watching and     please like this video'"
      ],
      "execution_count": null,
      "outputs": []
    },
    {
      "cell_type": "code",
      "metadata": {
        "id": "YTQpj1lHZfKH",
        "outputId": "d411dcb0-3f71-4bbd-913a-e0e29e682940",
        "colab": {
          "base_uri": "https://localhost:8080/",
          "height": 35
        }
      },
      "source": [
        "\" \".join(x.split())"
      ],
      "execution_count": null,
      "outputs": [
        {
          "output_type": "execute_result",
          "data": {
            "application/vnd.google.colaboratory.intrinsic": {
              "type": "string"
            },
            "text/plain": [
              "'thanks for watching and please like this video'"
            ]
          },
          "metadata": {
            "tags": []
          },
          "execution_count": 59
        }
      ]
    },
    {
      "cell_type": "code",
      "metadata": {
        "id": "t9M795opZmEk"
      },
      "source": [
        "df['twitts']=df['twitts'].apply(lambda x: \" \".join(x.split()))"
      ],
      "execution_count": null,
      "outputs": []
    },
    {
      "cell_type": "code",
      "metadata": {
        "id": "8OfCBZgNZ2id",
        "outputId": "f44bfb04-067d-4029-8cb5-9f3431e2109b",
        "colab": {
          "base_uri": "https://localhost:8080/",
          "height": 179
        }
      },
      "source": [
        "df.head(2)"
      ],
      "execution_count": null,
      "outputs": [
        {
          "output_type": "execute_result",
          "data": {
            "text/html": [
              "<div>\n",
              "<style scoped>\n",
              "    .dataframe tbody tr th:only-of-type {\n",
              "        vertical-align: middle;\n",
              "    }\n",
              "\n",
              "    .dataframe tbody tr th {\n",
              "        vertical-align: top;\n",
              "    }\n",
              "\n",
              "    .dataframe thead th {\n",
              "        text-align: right;\n",
              "    }\n",
              "</style>\n",
              "<table border=\"1\" class=\"dataframe\">\n",
              "  <thead>\n",
              "    <tr style=\"text-align: right;\">\n",
              "      <th></th>\n",
              "      <th>twitts</th>\n",
              "      <th>Sent.</th>\n",
              "      <th>cant_palabra</th>\n",
              "      <th>cant_car</th>\n",
              "      <th>prom_log_pal</th>\n",
              "      <th>cant_stopWords</th>\n",
              "      <th>hashtags</th>\n",
              "      <th>menciones</th>\n",
              "      <th>cant_digit</th>\n",
              "      <th>cant_may</th>\n",
              "      <th>emails</th>\n",
              "      <th>cant_emails</th>\n",
              "      <th>urls_flag</th>\n",
              "    </tr>\n",
              "  </thead>\n",
              "  <tbody>\n",
              "    <tr>\n",
              "      <th>0</th>\n",
              "      <td>switchfoot - awww that is a bummer you shoulda...</td>\n",
              "      <td>0</td>\n",
              "      <td>19</td>\n",
              "      <td>115</td>\n",
              "      <td>5.052632</td>\n",
              "      <td>4</td>\n",
              "      <td>0</td>\n",
              "      <td>1</td>\n",
              "      <td>0</td>\n",
              "      <td>1</td>\n",
              "      <td>[]</td>\n",
              "      <td>0</td>\n",
              "      <td>1</td>\n",
              "    </tr>\n",
              "    <tr>\n",
              "      <th>1</th>\n",
              "      <td>is upset that he cannot update his facebook by...</td>\n",
              "      <td>0</td>\n",
              "      <td>21</td>\n",
              "      <td>111</td>\n",
              "      <td>4.285714</td>\n",
              "      <td>9</td>\n",
              "      <td>0</td>\n",
              "      <td>0</td>\n",
              "      <td>0</td>\n",
              "      <td>0</td>\n",
              "      <td>[]</td>\n",
              "      <td>0</td>\n",
              "      <td>0</td>\n",
              "    </tr>\n",
              "  </tbody>\n",
              "</table>\n",
              "</div>"
            ],
            "text/plain": [
              "                                              twitts  ...  urls_flag\n",
              "0  switchfoot - awww that is a bummer you shoulda...  ...          1\n",
              "1  is upset that he cannot update his facebook by...  ...          0\n",
              "\n",
              "[2 rows x 13 columns]"
            ]
          },
          "metadata": {
            "tags": []
          },
          "execution_count": 61
        }
      ]
    },
    {
      "cell_type": "markdown",
      "metadata": {
        "id": "H9FOgRyNZ84a"
      },
      "source": [
        "BORRADO DE TAGS HTML"
      ]
    },
    {
      "cell_type": "code",
      "metadata": {
        "id": "Rxo65R3WZ4_K"
      },
      "source": [
        "from bs4 import BeautifulSoup"
      ],
      "execution_count": null,
      "outputs": []
    },
    {
      "cell_type": "code",
      "metadata": {
        "id": "-QDR6cfKaELn",
        "outputId": "e5b2c007-7f8b-4f82-b441-d3cc93d08ea4",
        "colab": {
          "base_uri": "https://localhost:8080/",
          "height": 51
        }
      },
      "source": [
        "%%time\n",
        "df['twitts']=df['twitts'].apply(lambda x: BeautifulSoup(x,'lxml').get_text())"
      ],
      "execution_count": null,
      "outputs": [
        {
          "output_type": "stream",
          "text": [
            "CPU times: user 5min 59s, sys: 25.8 s, total: 6min 25s\n",
            "Wall time: 6min 25s\n"
          ],
          "name": "stdout"
        }
      ]
    },
    {
      "cell_type": "markdown",
      "metadata": {
        "id": "-V2POHGca5_1"
      },
      "source": [
        "REMOVIENDO CARACTERES DE ACENTUACION"
      ]
    },
    {
      "cell_type": "code",
      "metadata": {
        "id": "-t9E01koazHn"
      },
      "source": [
        "x='Áccënted töxt'"
      ],
      "execution_count": null,
      "outputs": []
    },
    {
      "cell_type": "code",
      "metadata": {
        "id": "Z2HSxHl0cAAj"
      },
      "source": [
        "import unicodedata"
      ],
      "execution_count": null,
      "outputs": []
    },
    {
      "cell_type": "code",
      "metadata": {
        "id": "zwwMyaiZbKPV"
      },
      "source": [
        "def remove_accented_chars(x):\n",
        "  x=unicodedata.normalize('NFKD',x).encode('ascii', 'ignore').decode('utf-8','ignore')\n",
        "  return x"
      ],
      "execution_count": null,
      "outputs": []
    },
    {
      "cell_type": "code",
      "metadata": {
        "id": "MvDjo1XJcS6S",
        "outputId": "862e058f-07b4-49dc-93ef-4fb211c5e3d9",
        "colab": {
          "base_uri": "https://localhost:8080/",
          "height": 35
        }
      },
      "source": [
        "remove_accented_chars(x)"
      ],
      "execution_count": null,
      "outputs": [
        {
          "output_type": "execute_result",
          "data": {
            "application/vnd.google.colaboratory.intrinsic": {
              "type": "string"
            },
            "text/plain": [
              "'Accented toxt'"
            ]
          },
          "metadata": {
            "tags": []
          },
          "execution_count": 67
        }
      ]
    },
    {
      "cell_type": "markdown",
      "metadata": {
        "id": "TSyjjYj7cxK3"
      },
      "source": [
        "SPACY Y NLP"
      ]
    },
    {
      "cell_type": "markdown",
      "metadata": {
        "id": "Vb6A-ftDc1k-"
      },
      "source": [
        "BORRAR STOP WORDS"
      ]
    },
    {
      "cell_type": "code",
      "metadata": {
        "id": "oFcU8EHQdFMH"
      },
      "source": [
        "x='this is stop words removal code'"
      ],
      "execution_count": null,
      "outputs": []
    },
    {
      "cell_type": "code",
      "metadata": {
        "id": "7tSodaD5dLMM",
        "outputId": "88cb3e1b-1943-453b-a8ef-96f26c9b0626",
        "colab": {
          "base_uri": "https://localhost:8080/",
          "height": 35
        }
      },
      "source": [
        "\" \".join([t for t in x.split() if t not in STOP_WORDS])"
      ],
      "execution_count": null,
      "outputs": [
        {
          "output_type": "execute_result",
          "data": {
            "application/vnd.google.colaboratory.intrinsic": {
              "type": "string"
            },
            "text/plain": [
              "'stop words removal code'"
            ]
          },
          "metadata": {
            "tags": []
          },
          "execution_count": 69
        }
      ]
    },
    {
      "cell_type": "code",
      "metadata": {
        "id": "q6d30bL2cZBL"
      },
      "source": [
        "df['twitts']=df['twitts'].apply(lambda x: \" \".join([t for t in x.split() if t not in STOP_WORDS]))"
      ],
      "execution_count": null,
      "outputs": []
    },
    {
      "cell_type": "code",
      "metadata": {
        "id": "cmeta_0ddnpO",
        "outputId": "d7a9af08-7300-4877-890a-93f6ae4256ec",
        "colab": {
          "base_uri": "https://localhost:8080/",
          "height": 323
        }
      },
      "source": [
        "df.head()"
      ],
      "execution_count": null,
      "outputs": [
        {
          "output_type": "execute_result",
          "data": {
            "text/html": [
              "<div>\n",
              "<style scoped>\n",
              "    .dataframe tbody tr th:only-of-type {\n",
              "        vertical-align: middle;\n",
              "    }\n",
              "\n",
              "    .dataframe tbody tr th {\n",
              "        vertical-align: top;\n",
              "    }\n",
              "\n",
              "    .dataframe thead th {\n",
              "        text-align: right;\n",
              "    }\n",
              "</style>\n",
              "<table border=\"1\" class=\"dataframe\">\n",
              "  <thead>\n",
              "    <tr style=\"text-align: right;\">\n",
              "      <th></th>\n",
              "      <th>twitts</th>\n",
              "      <th>Sent.</th>\n",
              "      <th>cant_palabra</th>\n",
              "      <th>cant_car</th>\n",
              "      <th>prom_log_pal</th>\n",
              "      <th>cant_stopWords</th>\n",
              "      <th>hashtags</th>\n",
              "      <th>menciones</th>\n",
              "      <th>cant_digit</th>\n",
              "      <th>cant_may</th>\n",
              "      <th>emails</th>\n",
              "      <th>cant_emails</th>\n",
              "      <th>urls_flag</th>\n",
              "    </tr>\n",
              "  </thead>\n",
              "  <tbody>\n",
              "    <tr>\n",
              "      <th>0</th>\n",
              "      <td>switchfoot - awww bummer shoulda got david car...</td>\n",
              "      <td>0</td>\n",
              "      <td>19</td>\n",
              "      <td>115</td>\n",
              "      <td>5.052632</td>\n",
              "      <td>4</td>\n",
              "      <td>0</td>\n",
              "      <td>1</td>\n",
              "      <td>0</td>\n",
              "      <td>1</td>\n",
              "      <td>[]</td>\n",
              "      <td>0</td>\n",
              "      <td>1</td>\n",
              "    </tr>\n",
              "    <tr>\n",
              "      <th>1</th>\n",
              "      <td>upset update facebook texting cry result schoo...</td>\n",
              "      <td>0</td>\n",
              "      <td>21</td>\n",
              "      <td>111</td>\n",
              "      <td>4.285714</td>\n",
              "      <td>9</td>\n",
              "      <td>0</td>\n",
              "      <td>0</td>\n",
              "      <td>0</td>\n",
              "      <td>0</td>\n",
              "      <td>[]</td>\n",
              "      <td>0</td>\n",
              "      <td>0</td>\n",
              "    </tr>\n",
              "    <tr>\n",
              "      <th>2</th>\n",
              "      <td>kenichan dived times ball managed save 50 rest...</td>\n",
              "      <td>0</td>\n",
              "      <td>18</td>\n",
              "      <td>89</td>\n",
              "      <td>3.944444</td>\n",
              "      <td>7</td>\n",
              "      <td>0</td>\n",
              "      <td>1</td>\n",
              "      <td>0</td>\n",
              "      <td>1</td>\n",
              "      <td>[]</td>\n",
              "      <td>0</td>\n",
              "      <td>0</td>\n",
              "    </tr>\n",
              "    <tr>\n",
              "      <th>3</th>\n",
              "      <td>body feels itchy like fire</td>\n",
              "      <td>0</td>\n",
              "      <td>10</td>\n",
              "      <td>47</td>\n",
              "      <td>3.700000</td>\n",
              "      <td>5</td>\n",
              "      <td>0</td>\n",
              "      <td>0</td>\n",
              "      <td>0</td>\n",
              "      <td>0</td>\n",
              "      <td>[]</td>\n",
              "      <td>0</td>\n",
              "      <td>0</td>\n",
              "    </tr>\n",
              "    <tr>\n",
              "      <th>4</th>\n",
              "      <td>nationwideclass behaving mad</td>\n",
              "      <td>0</td>\n",
              "      <td>21</td>\n",
              "      <td>111</td>\n",
              "      <td>4.285714</td>\n",
              "      <td>10</td>\n",
              "      <td>0</td>\n",
              "      <td>1</td>\n",
              "      <td>0</td>\n",
              "      <td>1</td>\n",
              "      <td>[]</td>\n",
              "      <td>0</td>\n",
              "      <td>0</td>\n",
              "    </tr>\n",
              "  </tbody>\n",
              "</table>\n",
              "</div>"
            ],
            "text/plain": [
              "                                              twitts  ...  urls_flag\n",
              "0  switchfoot - awww bummer shoulda got david car...  ...          1\n",
              "1  upset update facebook texting cry result schoo...  ...          0\n",
              "2  kenichan dived times ball managed save 50 rest...  ...          0\n",
              "3                         body feels itchy like fire  ...          0\n",
              "4                       nationwideclass behaving mad  ...          0\n",
              "\n",
              "[5 rows x 13 columns]"
            ]
          },
          "metadata": {
            "tags": []
          },
          "execution_count": 71
        }
      ]
    },
    {
      "cell_type": "markdown",
      "metadata": {
        "id": "BIDR7e4PdrYh"
      },
      "source": [
        "CONVIRTIENDO PALABRAS EN SU FORMA BASE O RAIZ"
      ]
    },
    {
      "cell_type": "code",
      "metadata": {
        "id": "sW_crF4bdorp"
      },
      "source": [
        "nlp=spacy.load('en_core_web_sm')"
      ],
      "execution_count": null,
      "outputs": []
    },
    {
      "cell_type": "code",
      "metadata": {
        "id": "VC61rnJMeCNI"
      },
      "source": [
        "x='kenichan dived times ball managed save 50 rest'"
      ],
      "execution_count": null,
      "outputs": []
    },
    {
      "cell_type": "markdown",
      "metadata": {
        "id": "_BhEvsMNeNnG"
      },
      "source": [
        "dive= dived, time = times, manage= managed"
      ]
    },
    {
      "cell_type": "code",
      "metadata": {
        "id": "ijmd0E-wG9gh"
      },
      "source": [
        "#x='i you he she they is am are'"
      ],
      "execution_count": null,
      "outputs": []
    },
    {
      "cell_type": "code",
      "metadata": {
        "id": "qoko1MZNeLpk"
      },
      "source": [
        "def make_to_base(x):\n",
        "  x_list=[]\n",
        "  doc=nlp(x)\n",
        "\n",
        "  for token in doc:\n",
        "    lemma = str(token.lemma_)\n",
        "    if lemma == '-PRON-' or lemma=='be':\n",
        "      lemma=token.text\n",
        "    x_list.append(lemma)\n",
        "  print(\" \".join(x_list))\n"
      ],
      "execution_count": null,
      "outputs": []
    },
    {
      "cell_type": "code",
      "metadata": {
        "id": "jmWHn3lNHG1F",
        "outputId": "60b8f56f-f5fa-4424-d1b1-33b6d7fd16e1",
        "colab": {
          "base_uri": "https://localhost:8080/",
          "height": 34
        }
      },
      "source": [
        "make_to_base(x)"
      ],
      "execution_count": null,
      "outputs": [
        {
          "output_type": "stream",
          "text": [
            "kenichan dive times ball manage save 50 rest\n"
          ],
          "name": "stdout"
        }
      ]
    },
    {
      "cell_type": "markdown",
      "metadata": {
        "id": "oCIrEFl7IEce"
      },
      "source": [
        "ELIMINACION DE PALABRAS COMUNES"
      ]
    },
    {
      "cell_type": "code",
      "metadata": {
        "id": "hSbTaUMfHJX8",
        "outputId": "58ca5f99-c8e8-4634-819d-8cbd681536cf",
        "colab": {
          "base_uri": "https://localhost:8080/",
          "height": 52
        }
      },
      "source": [
        "' '.join(df.head()['twitts'])"
      ],
      "execution_count": null,
      "outputs": [
        {
          "output_type": "execute_result",
          "data": {
            "application/vnd.google.colaboratory.intrinsic": {
              "type": "string"
            },
            "text/plain": [
              "'switchfoot - awww bummer shoulda got david carr day d upset update facebook texting cry result school today blah kenichan dived times ball managed save 50 rest bounds body feels itchy like fire nationwideclass behaving mad'"
            ]
          },
          "metadata": {
            "tags": []
          },
          "execution_count": 84
        }
      ]
    },
    {
      "cell_type": "code",
      "metadata": {
        "id": "BiJJ4clMIaxv"
      },
      "source": [
        "text=' '.join(df['twitts']) "
      ],
      "execution_count": null,
      "outputs": []
    },
    {
      "cell_type": "code",
      "metadata": {
        "id": "smLt2lblI6_E"
      },
      "source": [
        "text=text.split()"
      ],
      "execution_count": null,
      "outputs": []
    },
    {
      "cell_type": "code",
      "metadata": {
        "id": "vgb1LhblI90e"
      },
      "source": [
        "freq_comm=pd.Series(text).value_counts()"
      ],
      "execution_count": null,
      "outputs": []
    },
    {
      "cell_type": "code",
      "metadata": {
        "id": "mfhaZUSAJFTx"
      },
      "source": [
        "f20=freq_comm[:20]"
      ],
      "execution_count": null,
      "outputs": []
    },
    {
      "cell_type": "code",
      "metadata": {
        "id": "vuTfjNvoJIeY",
        "outputId": "851db91f-cab5-4e21-c4ab-0aaddaf8af04",
        "colab": {
          "base_uri": "https://localhost:8080/",
          "height": 374
        }
      },
      "source": [
        "f20"
      ],
      "execution_count": null,
      "outputs": [
        {
          "output_type": "execute_result",
          "data": {
            "text/plain": [
              "good      89227\n",
              "day       81969\n",
              "like      76851\n",
              "-         69467\n",
              "today     64348\n",
              "going     63815\n",
              "work      62611\n",
              "love      61913\n",
              "got       59997\n",
              "time      55863\n",
              "lol       54651\n",
              "im        50004\n",
              "know      49505\n",
              "new       41803\n",
              "want      41514\n",
              "night     40946\n",
              "think     40326\n",
              "amp       40268\n",
              "thanks    39254\n",
              "home      39051\n",
              "dtype: int64"
            ]
          },
          "metadata": {
            "tags": []
          },
          "execution_count": 90
        }
      ]
    },
    {
      "cell_type": "code",
      "metadata": {
        "id": "5j65cmAnJaou"
      },
      "source": [
        "df['twitts']=df['twitts'].apply(lambda)"
      ],
      "execution_count": null,
      "outputs": []
    }
  ]
}